{
 "cells": [
  {
   "cell_type": "markdown",
   "metadata": {},
   "source": [
    "### javascript 处理"
   ]
  },
  {
   "cell_type": "raw",
   "metadata": {
    "vscode": {
     "languageId": "raw"
    }
   },
   "source": [
    "#### prompt\n",
    "\n",
    "step 1:\n",
    "Please reconstruct this js func:\n",
    "class Queue {\n",
    "    constructor() {\n",
    "      this.items = [];\n",
    "    }\n",
    "  \n",
    "    // enqueue function adds an element to the end of the queue\n",
    "    enqueue(element) {\n",
    "      this.items.push(element);\n",
    "    }\n",
    "  \n",
    "    // dequeue function removes an element from the front of the queue\n",
    "    dequeue() {\n",
    "      if (this.isEmpty()) {\n",
    "        return \"Underflow\";\n",
    "      }\n",
    "      return this.items.shift();\n",
    "    }\n",
    "  \n",
    "    // front function returns the front element of the queue\n",
    "    front() {\n",
    "      if (this.isEmpty()) {\n",
    "        return \"No elements in Queue\";\n",
    "      }\n",
    "      return this.items[0];\n",
    "    }\n",
    "  \n",
    "    // isEmpty function returns true if the queue is empty\n",
    "    isEmpty() {\n",
    "      return this.items.length === 0;\n",
    "    }\n",
    "  \n",
    "    // printQueue function prints all the elements in the queue\n",
    "    printQueue() {\n",
    "      let str = \"\";\n",
    "      for (let i = 0; i < this.items.length; i++) {\n",
    "        str += this.items[i] + \" \";\n",
    "      }\n",
    "      return str;\n",
    "    }\n",
    "  }\n",
    "\n",
    "  export default Queue;\n",
    "  \n",
    "  // Example usage of the Queue class\n",
    "  let queue = new Queue();\n",
    "  \n",
    "  queue.enqueue(10);\n",
    "  queue.enqueue(20);\n",
    "  queue.enqueue(30);\n",
    "  \n",
    "  console.log(queue.printQueue()); // Output: \"10 20 30\"\n",
    "  \n",
    "  queue.dequeue();\n",
    "  \n",
    "  console.log(queue.front()); // Output: 20\n",
    "\n",
    "step 2:\n",
    "Please generate 5 testcasse use jest\n",
    "\n",
    "Please verify the correctness of these test cases and give the correct test cases\n",
    "\n"
   ]
  },
  {
   "cell_type": "code",
   "metadata": {
    "ExecuteTime": {
     "end_time": "2024-08-20T07:54:11.935158Z",
     "start_time": "2024-08-20T07:54:11.919158Z"
    }
   },
   "source": [
    "import os\n",
    "\n",
    "def create_test_temp_env(task_scope):\n",
    "    # 读取test文件夹下的内容\n",
    "    with open(f\"{task_dir_path}/test/test.{TASK_SUFFIX}\", \"r\", encoding=\"utf8\") as test_file:\n",
    "        test_content = test_file.read()\n",
    "\n",
    "    # 读取指定task scope的文件内容\n",
    "    with open(f\"{task_dir_path}/{task_scope}.{TASK_SUFFIX}\", \"r\", encoding=\"utf8\") as scope_file:\n",
    "        scope_content = scope_file.read()\n",
    "\n",
    "    temp_dir_path = \"\"\n",
    "    # 检测文件是否存在 不存在则创建\n",
    "    if task_scope == \"original\":\n",
    "        temp_dir_path = f\"{task_dir_path}/original_temp\"\n",
    "    elif task_scope == \"adapted\":\n",
    "        temp_dir_path = f\"{task_dir_path}/adapted_temp\"\n",
    "    if not os.path.exists(temp_dir_path):\n",
    "        try:\n",
    "            # 如果目录不存在则创建\n",
    "            os.makedirs(temp_dir_path)\n",
    "        except OSError as e:\n",
    "            print(f\"Failed to create directory {temp_dir_path}: {e}\")\n",
    "\n",
    "    with open(f\"{temp_dir_path}/{task_scope}.test.{TASK_SUFFIX}\", \"w\", encoding=\"utf8\") as temp_file:\n",
    "        temp_file.write(test_content)\n",
    "        temp_file.write(\"\\n\")\n",
    "        temp_file.write(scope_content)\n",
    "        temp_file.flush()\n",
    "\n",
    "def create_folder(folder_path):\n",
    "    if not os.path.exists(folder_path):\n",
    "        os.makedirs(folder_path)\n",
    "        \n",
    "def create_file(folder_path,filename):\n",
    "\tif not os.path.exists(folder_path):\n",
    "\t\tos.makedirs(folder_path)\n",
    "\twith open(f\"{folder_path}/{filename}\",'w') as f:\n",
    "\t\tf.write(\"\")\n",
    "\n",
    "def init_create_files():\n",
    "    create_file(task_dir_path,\"adapted.js\")\n",
    "    create_file(task_dir_path,\"signature.js\")\n",
    "    create_file(f\"{task_dir_path}/test\",\"test.js\")\n",
    " \n",
    "if __name__ == '__main__':\n",
    "    TASK_LANGUAGE = \"javascript\"\n",
    "    TASK_SUFFIX = \"js\""
   ],
   "outputs": [],
   "execution_count": 6
  },
  {
   "metadata": {
    "ExecuteTime": {
     "end_time": "2024-08-20T13:06:32.854427Z",
     "start_time": "2024-08-20T13:06:32.843736Z"
    }
   },
   "cell_type": "code",
   "source": [
    "TASK_ID = \"97\"\n",
    "task_dir_path = os.path.abspath(f\"../total_{TASK_LANGUAGE}/t{TASK_ID}\")\n"
   ],
   "outputs": [],
   "execution_count": 36
  },
  {
   "cell_type": "code",
   "metadata": {
    "ExecuteTime": {
     "end_time": "2024-08-20T12:43:00.337254Z",
     "start_time": "2024-08-20T12:43:00.330915Z"
    }
   },
   "source": [
    "init_create_files()"
   ],
   "outputs": [],
   "execution_count": 30
  },
  {
   "cell_type": "code",
   "metadata": {
    "ExecuteTime": {
     "end_time": "2024-08-20T13:20:49.337489Z",
     "start_time": "2024-08-20T13:20:49.289955Z"
    }
   },
   "source": [
    "create_test_temp_env(\"original\")\n",
    "create_test_temp_env(\"adapted\")"
   ],
   "outputs": [],
   "execution_count": 40
  },
  {
   "metadata": {},
   "cell_type": "code",
   "outputs": [],
   "execution_count": null,
   "source": ""
  }
 ],
 "metadata": {
  "kernelspec": {
   "display_name": "Dubhe",
   "language": "python",
   "name": "python3"
  },
  "language_info": {
   "codemirror_mode": {
    "name": "ipython",
    "version": 3
   },
   "file_extension": ".py",
   "mimetype": "text/x-python",
   "name": "python",
   "nbconvert_exporter": "python",
   "pygments_lexer": "ipython3",
   "version": "3.10.11"
  }
 },
 "nbformat": 4,
 "nbformat_minor": 2
}

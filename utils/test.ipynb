{
 "cells": [
  {
   "cell_type": "markdown",
   "metadata": {},
   "source": [
    "### javascript 处理"
   ]
  },
  {
   "cell_type": "raw",
   "metadata": {
    "vscode": {
     "languageId": "raw"
    }
   },
   "source": [
    "#### prompt\n",
    "\n",
    "step 1:\n",
    "Please reconstruct this js func:\n",
    "Please reconstruct this ts func and give a separate description of the function in Chinese later:\n",
    "Please refactor the function code and add proper function comments and give a separate description of the function in Chinese later and generate 5 testcases use jest:\n",
    "According to this function, please give the corresponding Chinese description, and then re-write the correct and reasonable function code, and give 5 comprehensive and correct test cases:\n",
    "\n",
    "function getObjectById(id, list) { // created by ChatGPT\n",
    "    // Iterate over the list of objects\n",
    "    for (let i = 0; i < list.length; i++) {\n",
    "        const obj = list[i];\n",
    "\n",
    "        // Check if the object has an `id` property that matches the given id\n",
    "        if (obj.id && obj.id === id) {\n",
    "            // If a match is found, return the object\n",
    "            return obj;\n",
    "        }\n",
    "    }\n",
    "\n",
    "    // If no match is found, return null\n",
    "    return null;\n",
    "}\n",
    "\n",
    "step 2:\n",
    "Please generate 5 testcasse use jest\n",
    "\n",
    "Please verify the correctness of these test cases and give the correct test cases\n",
    "\n"
   ]
  },
  {
   "cell_type": "code",
   "metadata": {
    "ExecuteTime": {
     "end_time": "2024-08-24T06:40:45.160391Z",
     "start_time": "2024-08-24T06:40:45.092583Z"
    }
   },
   "source": [
    "import os\n",
    "\n",
    "def create_test_temp_env(task_scope):\n",
    "    # 读取test文件夹下的内容\n",
    "    with open(f\"{task_dir_path}/test/test.{TASK_SUFFIX}\", \"r\", encoding=\"utf8\") as test_file:\n",
    "        test_content = test_file.read()\n",
    "\n",
    "    # 读取指定task scope的文件内容\n",
    "    with open(f\"{task_dir_path}/{task_scope}.{TASK_SUFFIX}\", \"r\", encoding=\"utf8\") as scope_file:\n",
    "        scope_content = scope_file.read()\n",
    "\n",
    "    temp_dir_path = \"\"\n",
    "    # 检测文件是否存在 不存在则创建\n",
    "    if task_scope == \"original\":\n",
    "        temp_dir_path = f\"{task_dir_path}/original_temp\"\n",
    "    elif task_scope == \"adapted\":\n",
    "        temp_dir_path = f\"{task_dir_path}/adapted_temp\"\n",
    "    if not os.path.exists(temp_dir_path):\n",
    "        try:\n",
    "            # 如果目录不存在则创建\n",
    "            os.makedirs(temp_dir_path)\n",
    "        except OSError as e:\n",
    "            print(f\"Failed to create directory {temp_dir_path}: {e}\")\n",
    "\n",
    "    with open(f\"{temp_dir_path}/{task_scope}.test.{TASK_SUFFIX}\", \"w\", encoding=\"utf8\") as temp_file:\n",
    "        temp_file.write(test_content)\n",
    "        temp_file.write(\"\\n\")\n",
    "        temp_file.write(scope_content)\n",
    "        temp_file.flush()\n",
    "\n",
    "def create_folder(folder_path):\n",
    "    if not os.path.exists(folder_path):\n",
    "        os.makedirs(folder_path)\n",
    "        \n",
    "def create_file(folder_path,filename):\n",
    "\tif not os.path.exists(folder_path):\n",
    "\t\tos.makedirs(folder_path)\n",
    "\twith open(f\"{folder_path}/{filename}\",'w') as f:\n",
    "\t\tf.write(\"\")\n",
    "\n",
    "def init_create_files():\n",
    "    create_file(task_dir_path,f\"adapted.{TASK_SUFFIX}\")\n",
    "    create_file(task_dir_path,f\"signature.{TASK_SUFFIX}\")\n",
    "    create_file(f\"{task_dir_path}/test\",f\"test.{TASK_SUFFIX}\")\n",
    " "
   ],
   "outputs": [],
   "execution_count": 124
  },
  {
   "metadata": {
    "ExecuteTime": {
     "end_time": "2024-08-24T06:40:45.794068Z",
     "start_time": "2024-08-24T06:40:45.777057Z"
    }
   },
   "cell_type": "code",
   "source": [
    "option = 1\n",
    "TASK_LANGUAGE = [\"javascript\",\"typescript\"][option]\n",
    "TASK_SUFFIX = [\"js\",\"ts\"][option]"
   ],
   "outputs": [],
   "execution_count": 125
  },
  {
   "metadata": {
    "ExecuteTime": {
     "end_time": "2024-08-25T09:11:11.025213Z",
     "start_time": "2024-08-25T09:11:11.004686Z"
    }
   },
   "cell_type": "code",
   "source": [
    "TASK_ID = \"162\"\n",
    "task_dir_path = os.path.abspath(f\"../total_{TASK_LANGUAGE}/t{TASK_ID}\")\n",
    "\n",
    "init_create_files()"
   ],
   "outputs": [],
   "execution_count": 169
  },
  {
   "cell_type": "code",
   "metadata": {
    "ExecuteTime": {
     "end_time": "2024-08-24T09:08:32.815935Z",
     "start_time": "2024-08-24T09:08:32.794697Z"
    }
   },
   "source": "init_create_files()",
   "outputs": [],
   "execution_count": 149
  },
  {
   "cell_type": "code",
   "metadata": {
    "ExecuteTime": {
     "end_time": "2024-08-25T09:14:49.789101Z",
     "start_time": "2024-08-25T09:14:49.777872Z"
    }
   },
   "source": [
    "create_test_temp_env(\"original\")\n",
    "create_test_temp_env(\"adapted\")"
   ],
   "outputs": [],
   "execution_count": 170
  },
  {
   "metadata": {},
   "cell_type": "code",
   "outputs": [],
   "execution_count": null,
   "source": ""
  }
 ],
 "metadata": {
  "kernelspec": {
   "display_name": "Dubhe",
   "language": "python",
   "name": "python3"
  },
  "language_info": {
   "codemirror_mode": {
    "name": "ipython",
    "version": 3
   },
   "file_extension": ".py",
   "mimetype": "text/x-python",
   "name": "python",
   "nbconvert_exporter": "python",
   "pygments_lexer": "ipython3",
   "version": "3.10.11"
  }
 },
 "nbformat": 4,
 "nbformat_minor": 2
}

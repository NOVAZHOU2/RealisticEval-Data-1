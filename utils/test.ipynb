{
 "cells": [
  {
   "cell_type": "markdown",
   "metadata": {},
   "source": [
    "### javascript 处理"
   ]
  },
  {
   "cell_type": "raw",
   "metadata": {
    "vscode": {
     "languageId": "raw"
    }
   },
   "source": [
    "#### prompt\n",
    "\n",
    "step 1:\n",
    "Please reconstruct this js func:\n",
    "Please reconstruct this ts func and give a separate description of the function in Chinese later:\n",
    "Please refactor the function code and add proper function comments and give a separate description of the function in Chinese later and generate 5 testcases use jest:\n",
    "According to this function, please give the corresponding Chinese description, and then re-write the correct and reasonable function code, and give 5 comprehensive and correct test cases:\n",
    "\n",
    "\n",
    "step 2:\n",
    "Please generate 5 testcasse use jest\n",
    "\n",
    "Please verify the correctness of these test cases and give the correct test cases\n",
    "\n",
    "According to this function, please give the corresponding Chinese description, and then rewrite the correct and reasonable function code according to the description. With appropriate function comments, give five comprehensive and correct test cases to use jest\n",
    "\n",
    "Please refactor the function code and add proper function comments and give a separate description of the function in Chinese later and generate 5 testcases use jest:\n",
    "\n",
    "\n",
    "Please verify the correctness of these test cases and give the correct test cases\n",
    "\n",
    "\n",
    "Write a java function or class that does the following, with formal function or class comments, and write five test cases with correct coverage using junit:\n",
    "Write a cpp function or class that does the following, with formal function or class comments, and write five test cases with correct coverage using catch2:\n",
    "\n",
    "Write a java function or class that does the following, with formal function or class comments:\n",
    "\n",
    "Write five test cases with correct coverage using junit：\n",
    "\n",
    "Please read and understand the content and purpose of this code, and give the corresponding description in Chinese and English：\n",
    "Please read and understand the content and purpose of this code, and give the corresponding description in Chinese：\n",
    "\n",
    "According to this function, please give the corresponding Chinese description, and then rewrite the correct and reasonable function code according to the description. With appropriate function comments, give five comprehensive and correct test cases to use jest\n",
    "// @ts-ignore\n",
    "   \n",
    "Please refactor the function code and add proper function comments and generate 5 testcases use jest:\n",
    "\n",
    "Please verify the correctness of these test cases and give the correct test cases\n",
    "\n",
    "\n"
   ]
  },
  {
   "cell_type": "code",
   "execution_count": 4,
   "metadata": {
    "ExecuteTime": {
     "end_time": "2024-08-24T06:40:45.160391Z",
     "start_time": "2024-08-24T06:40:45.092583Z"
    }
   },
   "outputs": [],
   "source": [
    "import os\n",
    "import subprocess\n",
    "\n",
    "def create_test_temp_env(task_scope):\n",
    "    # 读取test文件夹下的内容\n",
    "    with open(f\"{task_dir_path}/test/test.{TASK_SUFFIX}\", \"r\", encoding=\"utf8\") as test_file:\n",
    "        test_content = test_file.read()\n",
    "\n",
    "    # 读取指定task scope的文件内容\n",
    "    with open(f\"{task_dir_path}/{task_scope}.{TASK_SUFFIX}\", \"r\", encoding=\"utf8\") as scope_file:\n",
    "        scope_content = scope_file.read()\n",
    "\n",
    "    temp_dir_path = \"\"\n",
    "    # 检测文件是否存在 不存在则创建\n",
    "    if task_scope == \"original\":\n",
    "        temp_dir_path = f\"{task_dir_path}/original_temp\"\n",
    "    elif task_scope == \"adapted\":\n",
    "        temp_dir_path = f\"{task_dir_path}/adapted_temp\"\n",
    "    if not os.path.exists(temp_dir_path):\n",
    "        try:\n",
    "            # 如果目录不存在则创建\n",
    "            os.makedirs(temp_dir_path)\n",
    "        except OSError as e:\n",
    "            print(f\"Failed to create directory {temp_dir_path}: {e}\")\n",
    "\n",
    "    with open(f\"{temp_dir_path}/{task_scope}.test.{TASK_SUFFIX}\", \"w\", encoding=\"utf8\") as temp_file:\n",
    "        if TASK_SUFFIX == \"cpp\":\n",
    "            temp_file.write(\"#define CATCH_CONFIG_MAIN\\n\")\n",
    "            temp_file.write(\"#include \\\"../../lib/catch.hpp\\\"\\n\")\n",
    "            temp_file.write(f\"#include \\\"../{task_scope}.cpp\\\"\")\n",
    "            temp_file.write(\"\\n\")\n",
    "            temp_file.write(test_content)\n",
    "            temp_file.flush()\n",
    "            return\n",
    "        \n",
    "        temp_file.write(test_content)\n",
    "        temp_file.write(\"\\n\")\n",
    "        temp_file.write(scope_content)\n",
    "        temp_file.flush()\n",
    "\n",
    "def execute_command(task_scope):\n",
    "    work_path = f\"{task_dir_path}/{task_scope}_temp\"\n",
    "    file_path = f\"{work_path}/{task_scope}\"\n",
    "    \n",
    "    os.chdir(work_path)\n",
    "    # 构建完整命令\n",
    "    args = [\"g++\", f\"{file_path}.test.cpp\", \"-o\", f\"{file_path}.test\"]\n",
    "    # 执行命令\n",
    "    result = subprocess.run(args, capture_output=True, text=True)\n",
    "\n",
    "    # 检查是否成功\n",
    "    if result.stdout:  # 如果有标准输出，打印它\n",
    "        print(\"Standard Output:\\n\", result.stdout)\n",
    "    if result.stderr:  # 如果有错误输出，打印它\n",
    "        print(\"Standard Error:\\n\", result.stderr)\n",
    "\n",
    "    result = subprocess.run([f\"{file_path}.test\"], capture_output=True, text=True)\n",
    "    # 检查是否成功\n",
    "    # 打印标准输出和标准错误\n",
    "    if result.stdout:  # 如果有标准输出，打印它\n",
    "        print(\"Standard Output:\\n\", result.stdout)\n",
    "    if result.stderr:  # 如果有错误输出，打印它\n",
    "        print(\"Standard Error:\\n\", result.stderr)\n",
    "\n",
    "    os.chdir(current_path)\n",
    "\n",
    "    \n",
    "def create_folder(folder_path):\n",
    "    if not os.path.exists(folder_path):\n",
    "        os.makedirs(folder_path)\n",
    "        \n",
    "def create_file(folder_path,filename):\n",
    "    if not os.path.exists(folder_path):\n",
    "        os.makedirs(folder_path)\n",
    "    with open(f\"{folder_path}/{filename}\",'w') as f:\n",
    "        f.write(\"\")\n",
    "\n",
    "def init_create_files():\n",
    "    create_file(task_dir_path,f\"adapted.{TASK_SUFFIX}\")\n",
    "    create_file(task_dir_path,f\"signature.{TASK_SUFFIX}\")\n",
    "    create_file(f\"{task_dir_path}/test\",f\"test.{TASK_SUFFIX}\")\n",
    "    \n",
    " "
   ]
  },
  {
   "cell_type": "code",
   "execution_count": 24,
   "metadata": {},
   "outputs": [
    {
     "data": {
      "text/plain": [
       "'p:\\\\CODE\\\\School\\\\YuXiao\\\\RealisticEval-Data\\\\utils'"
      ]
     },
     "execution_count": 24,
     "metadata": {},
     "output_type": "execute_result"
    }
   ],
   "source": [
    "current_path = 'p:\\\\CODE\\\\School\\\\YuXiao\\\\RealisticEval-Data\\\\utils'\n",
    "os.getcwd()"
   ]
  },
  {
   "cell_type": "code",
   "execution_count": 5,
   "metadata": {
    "ExecuteTime": {
     "end_time": "2024-08-24T06:40:45.794068Z",
     "start_time": "2024-08-24T06:40:45.777057Z"
    }
   },
   "outputs": [],
   "source": [
    "option = 2\n",
    "TASK_LANGUAGE = [\"javascript\",\"typescript\",\"c&cpp\"][option]\n",
    "TASK_SUFFIX = [\"js\",\"ts\",\"cpp\"][option]"
   ]
  },
  {
   "cell_type": "code",
   "execution_count": 40,
   "metadata": {
    "ExecuteTime": {
     "end_time": "2024-08-27T02:47:05.164082Z",
     "start_time": "2024-08-27T02:47:05.140728Z"
    }
   },
   "outputs": [
    {
     "name": "stdout",
     "output_type": "stream",
     "text": [
      "task_dir_path = p:\\CODE\\School\\YuXiao\\RealisticEval-Data\\total_c&cpp\\t360\n"
     ]
    }
   ],
   "source": [
    "TASK_ID = \"360\"\n",
    "task_dir_path = os.path.abspath(f\"../total_{TASK_LANGUAGE}/t{TASK_ID}\")\n",
    "print(f\"task_dir_path = {task_dir_path}\")\n",
    "init_create_files()"
   ]
  },
  {
   "cell_type": "code",
   "execution_count": 149,
   "metadata": {
    "ExecuteTime": {
     "end_time": "2024-08-24T09:08:32.815935Z",
     "start_time": "2024-08-24T09:08:32.794697Z"
    }
   },
   "outputs": [],
   "source": [
    "init_create_files()"
   ]
  },
  {
   "cell_type": "code",
   "execution_count": 44,
   "metadata": {
    "ExecuteTime": {
     "end_time": "2024-08-27T02:54:13.816043Z",
     "start_time": "2024-08-27T02:54:13.793742Z"
    }
   },
   "outputs": [],
   "source": [
    "create_test_temp_env(\"original\")\n",
    "create_test_temp_env(\"adapted\")"
   ]
  },
  {
   "cell_type": "code",
   "execution_count": 45,
   "metadata": {},
   "outputs": [
    {
     "name": "stdout",
     "output_type": "stream",
     "text": [
      "Standard Output:\n",
      " ===============================================================================\n",
      "All tests passed (5 assertions in 1 test case)\n",
      "\n",
      "\n"
     ]
    }
   ],
   "source": [
    "execute_command(\"original\")\n"
   ]
  },
  {
   "cell_type": "code",
   "execution_count": 46,
   "metadata": {},
   "outputs": [
    {
     "name": "stdout",
     "output_type": "stream",
     "text": [
      "Standard Output:\n",
      " ===============================================================================\n",
      "All tests passed (5 assertions in 1 test case)\n",
      "\n",
      "\n"
     ]
    }
   ],
   "source": [
    "execute_command(\"adapted\")"
   ]
  },
  {
   "cell_type": "code",
   "execution_count": null,
   "metadata": {},
   "outputs": [],
   "source": []
  },
  {
   "cell_type": "code",
   "execution_count": null,
   "metadata": {},
   "outputs": [],
   "source": []
  }
 ],
 "metadata": {
  "kernelspec": {
   "display_name": "Dubhe",
   "language": "python",
   "name": "python3"
  },
  "language_info": {
   "codemirror_mode": {
    "name": "ipython",
    "version": 3
   },
   "file_extension": ".py",
   "mimetype": "text/x-python",
   "name": "python",
   "nbconvert_exporter": "python",
   "pygments_lexer": "ipython3",
   "version": "3.10.11"
  }
 },
 "nbformat": 4,
 "nbformat_minor": 2
}

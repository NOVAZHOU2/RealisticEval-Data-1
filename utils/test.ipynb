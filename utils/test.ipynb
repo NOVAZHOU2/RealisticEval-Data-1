{
 "cells": [
  {
   "cell_type": "markdown",
   "metadata": {},
   "source": [
    "### javascript 处理"
   ]
  },
  {
   "cell_type": "raw",
   "metadata": {
    "vscode": {
     "languageId": "raw"
    }
   },
   "source": [
    "#### prompt\n",
    "\n",
    "step 1:\n",
    "Please reconstruct this js func:\n",
    "Please reconstruct this ts func and give a separate description of the function in Chinese later:\n",
    "Please refactor the function code and add proper function comments and give a separate description of the function in Chinese later and generate 5 testcases use jest:\n",
    "According to this function, please give the corresponding Chinese description, and then re-write the correct and reasonable function code, and give 5 comprehensive and correct test cases:\n",
    "\n",
    "\n",
    "step 2:\n",
    "Please generate 5 testcasse use jest\n",
    "\n",
    "Please verify the correctness of these test cases and give the correct test cases\n",
    "\n",
    "According to this function, please give the corresponding Chinese description, and then rewrite the correct and reasonable function code according to the description. With appropriate function comments, give five comprehensive and correct test cases to use jest\n",
    "\n",
    "Please refactor the function code and add proper function comments and give a separate description of the function in Chinese later and generate 5 testcases use jest:\n",
    "\n",
    "\n",
    "Please verify the correctness of these test cases and give the correct test cases\n",
    "\n",
    "\n",
    "Write a java function or class that does the following, with formal function or class comments, and write five test cases with correct coverage using junit:\n",
    "Write a cpp function or class that does the following, with formal function or class comments, and write five test cases with correct coverage using catch2:\n",
    "\n",
    "Write a java function or class that does the following, with formal function or class comments:\n",
    "\n",
    "Write five test cases with correct coverage using junit：\n",
    "\n",
    "Please read and understand the content and purpose of this code, and give the corresponding description in Chinese and English：\n",
    "Please read and understand the content and purpose of this code, and give the corresponding description in Chinese：\n",
    "\n",
    "According to this function, please give the corresponding Chinese description, and then rewrite the correct and reasonable function code according to the description. With appropriate function comments, give five comprehensive and correct test cases to use jest\n",
    "// @ts-ignore\n",
    "   \n",
    "Please refactor the function code and add proper function comments and generate 5 testcases use jest:\n",
    "\n",
    "Please verify the correctness of these test cases and give the correct test cases\n",
    "\n",
    "\n"
   ]
  },
  {
   "cell_type": "code",
   "execution_count": 20,
   "metadata": {
    "ExecuteTime": {
     "end_time": "2024-08-24T06:40:45.160391Z",
     "start_time": "2024-08-24T06:40:45.092583Z"
    }
   },
   "outputs": [],
   "source": [
    "import os\n",
    "import subprocess\n",
    "\n",
    "def create_test_temp_env(task_scope):\n",
    "    # 读取test文件夹下的内容\n",
    "    with open(f\"{task_dir_path}/test/test.{TASK_SUFFIX}\", \"r\", encoding=\"utf8\") as test_file:\n",
    "        test_content = test_file.read()\n",
    "\n",
    "    # 读取指定task scope的文件内容\n",
    "    with open(f\"{task_dir_path}/{task_scope}.{TASK_SUFFIX}\", \"r\", encoding=\"utf8\") as scope_file:\n",
    "        scope_content = scope_file.read()\n",
    "\n",
    "    temp_dir_path = \"\"\n",
    "    # 检测文件是否存在 不存在则创建\n",
    "    if task_scope == \"original\":\n",
    "        temp_dir_path = f\"{task_dir_path}/original_temp\"\n",
    "    elif task_scope == \"adapted\":\n",
    "        temp_dir_path = f\"{task_dir_path}/adapted_temp\"\n",
    "    if not os.path.exists(temp_dir_path):\n",
    "        try:\n",
    "            # 如果目录不存在则创建\n",
    "            os.makedirs(temp_dir_path)\n",
    "        except OSError as e:\n",
    "            print(f\"Failed to create directory {temp_dir_path}: {e}\")\n",
    "\n",
    "    with open(f\"{temp_dir_path}/{task_scope}.test.{TASK_SUFFIX}\", \"w\", encoding=\"utf8\") as temp_file:\n",
    "        if TASK_SUFFIX == \"cpp\":\n",
    "            temp_file.write(\"#define CATCH_CONFIG_MAIN\\n\")\n",
    "            temp_file.write(\"#include \\\"../../lib/catch.hpp\\\"\\n\")\n",
    "            temp_file.write(f\"#include \\\"../{task_scope}.cpp\\\"\")\n",
    "            temp_file.write(\"\\n\")\n",
    "            temp_file.write(test_content)\n",
    "            temp_file.flush()\n",
    "            return\n",
    "        \n",
    "        temp_file.write(test_content)\n",
    "        temp_file.write(\"\\n\")\n",
    "        temp_file.write(scope_content)\n",
    "        temp_file.flush()\n",
    "\n",
    "def execute_command(task_scope):\n",
    "    work_path = f\"{task_dir_path}/{task_scope}_temp\"\n",
    "    file_path = f\"{work_path}/{task_scope}\"\n",
    "    \n",
    "    current_path = os.getcwd()\n",
    "    os.chdir(work_path)\n",
    "    # 构建完整命令\n",
    "    args = [\"g++\", f\"{file_path}.test.cpp\", \"-o\", f\"{file_path}.test\"]\n",
    "    # 执行命令\n",
    "    result = subprocess.run(args, capture_output=True, text=True)\n",
    "\n",
    "    # 检查是否成功\n",
    "    if result.stdout:  # 如果有标准输出，打印它\n",
    "        print(\"Standard Output:\\n\", result.stdout)\n",
    "    if result.stderr:  # 如果有错误输出，打印它\n",
    "        print(\"Standard Error:\\n\", result.stderr)\n",
    "\n",
    "    result = subprocess.run([f\"{file_path}.test\"], capture_output=True, text=True)\n",
    "    # 检查是否成功\n",
    "    # 打印标准输出和标准错误\n",
    "    if result.stdout:  # 如果有标准输出，打印它\n",
    "        print(\"Standard Output:\\n\", result.stdout)\n",
    "    if result.stderr:  # 如果有错误输出，打印它\n",
    "        print(\"Standard Error:\\n\", result.stderr)\n",
    "    os.chdir(current_path)\n",
    "\n",
    "    \n",
    "def create_folder(folder_path):\n",
    "    if not os.path.exists(folder_path):\n",
    "        os.makedirs(folder_path)\n",
    "        \n",
    "def create_file(folder_path,filename):\n",
    "    if not os.path.exists(folder_path):\n",
    "        os.makedirs(folder_path)\n",
    "    with open(f\"{folder_path}/{filename}\",'w') as f:\n",
    "        f.write(\"\")\n",
    "\n",
    "def init_create_files():\n",
    "    create_file(task_dir_path,f\"adapted.{TASK_SUFFIX}\")\n",
    "    create_file(task_dir_path,f\"signature.{TASK_SUFFIX}\")\n",
    "    create_file(f\"{task_dir_path}/test\",f\"test.{TASK_SUFFIX}\")\n",
    "    \n",
    " "
   ]
  },
  {
   "cell_type": "code",
   "execution_count": 14,
   "metadata": {},
   "outputs": [
    {
     "data": {
      "text/plain": [
       "'p:\\\\CODE\\\\School\\\\YuXiao\\\\RealisticEval-Data\\\\total_c&cpp\\\\t197\\\\adapted_temp'"
      ]
     },
     "execution_count": 14,
     "metadata": {},
     "output_type": "execute_result"
    }
   ],
   "source": [
    "os.getcwd()"
   ]
  },
  {
   "cell_type": "code",
   "execution_count": 8,
   "metadata": {
    "ExecuteTime": {
     "end_time": "2024-08-24T06:40:45.794068Z",
     "start_time": "2024-08-24T06:40:45.777057Z"
    }
   },
   "outputs": [],
   "source": [
    "option = 2\n",
    "TASK_LANGUAGE = [\"javascript\",\"typescript\",\"c&cpp\"][option]\n",
    "TASK_SUFFIX = [\"js\",\"ts\",\"cpp\"][option]"
   ]
  },
  {
   "cell_type": "code",
   "execution_count": 9,
   "metadata": {
    "ExecuteTime": {
     "end_time": "2024-08-27T02:47:05.164082Z",
     "start_time": "2024-08-27T02:47:05.140728Z"
    }
   },
   "outputs": [
    {
     "name": "stdout",
     "output_type": "stream",
     "text": [
      "task_dir_path = p:\\CODE\\School\\YuXiao\\RealisticEval-Data\\total_c&cpp\\t197\n"
     ]
    }
   ],
   "source": [
    "TASK_ID = \"197\"\n",
    "task_dir_path = os.path.abspath(f\"../total_{TASK_LANGUAGE}/t{TASK_ID}\")\n",
    "print(f\"task_dir_path = {task_dir_path}\")\n",
    "# init_create_files()"
   ]
  },
  {
   "cell_type": "code",
   "execution_count": 149,
   "metadata": {
    "ExecuteTime": {
     "end_time": "2024-08-24T09:08:32.815935Z",
     "start_time": "2024-08-24T09:08:32.794697Z"
    }
   },
   "outputs": [],
   "source": [
    "init_create_files()"
   ]
  },
  {
   "cell_type": "code",
   "execution_count": 10,
   "metadata": {
    "ExecuteTime": {
     "end_time": "2024-08-27T02:54:13.816043Z",
     "start_time": "2024-08-27T02:54:13.793742Z"
    }
   },
   "outputs": [],
   "source": [
    "create_test_temp_env(\"original\")\n",
    "create_test_temp_env(\"adapted\")"
   ]
  },
  {
   "cell_type": "code",
   "execution_count": 18,
   "metadata": {},
   "outputs": [
    {
     "ename": "FileNotFoundError",
     "evalue": "[WinError 2] 系统找不到指定的文件。",
     "output_type": "error",
     "traceback": [
      "\u001b[1;31m---------------------------------------------------------------------------\u001b[0m",
      "\u001b[1;31mFileNotFoundError\u001b[0m                         Traceback (most recent call last)",
      "Cell \u001b[1;32mIn[18], line 1\u001b[0m\n\u001b[1;32m----> 1\u001b[0m \u001b[43mexecute_command\u001b[49m\u001b[43m(\u001b[49m\u001b[38;5;124;43m\"\u001b[39;49m\u001b[38;5;124;43moriginal\u001b[39;49m\u001b[38;5;124;43m\"\u001b[39;49m\u001b[43m)\u001b[49m\n",
      "Cell \u001b[1;32mIn[15], line 58\u001b[0m, in \u001b[0;36mexecute_command\u001b[1;34m(task_scope)\u001b[0m\n\u001b[0;32m     46\u001b[0m os\u001b[38;5;241m.\u001b[39mchdir(work_path)\n\u001b[0;32m     47\u001b[0m \u001b[38;5;66;03m# # 构建完整命令\u001b[39;00m\n\u001b[0;32m     48\u001b[0m \u001b[38;5;66;03m# args = [\"g++\", f\"{file_path}.test.cpp\", \"-o\", f\"{file_path}.test\"]\u001b[39;00m\n\u001b[0;32m     49\u001b[0m \u001b[38;5;66;03m# # 执行命令\u001b[39;00m\n\u001b[1;32m   (...)\u001b[0m\n\u001b[0;32m     55\u001b[0m \u001b[38;5;66;03m# if result.stderr:  # 如果有错误输出，打印它\u001b[39;00m\n\u001b[0;32m     56\u001b[0m \u001b[38;5;66;03m#     print(\"Standard Error:\\n\", result.stderr)\u001b[39;00m\n\u001b[1;32m---> 58\u001b[0m result \u001b[38;5;241m=\u001b[39m \u001b[43msubprocess\u001b[49m\u001b[38;5;241;43m.\u001b[39;49m\u001b[43mrun\u001b[49m\u001b[43m(\u001b[49m\u001b[43m[\u001b[49m\u001b[38;5;124;43mf\u001b[39;49m\u001b[38;5;124;43m\"\u001b[39;49m\u001b[38;5;132;43;01m{\u001b[39;49;00m\u001b[43mfile_path\u001b[49m\u001b[38;5;132;43;01m}\u001b[39;49;00m\u001b[38;5;124;43m.test\u001b[39;49m\u001b[38;5;124;43m\"\u001b[39;49m\u001b[43m]\u001b[49m\u001b[43m,\u001b[49m\u001b[43m \u001b[49m\u001b[43mcapture_output\u001b[49m\u001b[38;5;241;43m=\u001b[39;49m\u001b[38;5;28;43;01mTrue\u001b[39;49;00m\u001b[43m,\u001b[49m\u001b[43m \u001b[49m\u001b[43mtext\u001b[49m\u001b[38;5;241;43m=\u001b[39;49m\u001b[38;5;28;43;01mTrue\u001b[39;49;00m\u001b[43m)\u001b[49m\n\u001b[0;32m     59\u001b[0m \u001b[38;5;66;03m# 检查是否成功\u001b[39;00m\n\u001b[0;32m     60\u001b[0m \u001b[38;5;66;03m# 打印标准输出和标准错误\u001b[39;00m\n\u001b[0;32m     61\u001b[0m \u001b[38;5;28;01mif\u001b[39;00m result\u001b[38;5;241m.\u001b[39mstdout:  \u001b[38;5;66;03m# 如果有标准输出，打印它\u001b[39;00m\n",
      "File \u001b[1;32md:\\Programming-Language\\miniconda3\\envs\\Dubhe\\lib\\subprocess.py:503\u001b[0m, in \u001b[0;36mrun\u001b[1;34m(input, capture_output, timeout, check, *popenargs, **kwargs)\u001b[0m\n\u001b[0;32m    500\u001b[0m     kwargs[\u001b[38;5;124m'\u001b[39m\u001b[38;5;124mstdout\u001b[39m\u001b[38;5;124m'\u001b[39m] \u001b[38;5;241m=\u001b[39m PIPE\n\u001b[0;32m    501\u001b[0m     kwargs[\u001b[38;5;124m'\u001b[39m\u001b[38;5;124mstderr\u001b[39m\u001b[38;5;124m'\u001b[39m] \u001b[38;5;241m=\u001b[39m PIPE\n\u001b[1;32m--> 503\u001b[0m \u001b[38;5;28;01mwith\u001b[39;00m Popen(\u001b[38;5;241m*\u001b[39mpopenargs, \u001b[38;5;241m*\u001b[39m\u001b[38;5;241m*\u001b[39mkwargs) \u001b[38;5;28;01mas\u001b[39;00m process:\n\u001b[0;32m    504\u001b[0m     \u001b[38;5;28;01mtry\u001b[39;00m:\n\u001b[0;32m    505\u001b[0m         stdout, stderr \u001b[38;5;241m=\u001b[39m process\u001b[38;5;241m.\u001b[39mcommunicate(\u001b[38;5;28minput\u001b[39m, timeout\u001b[38;5;241m=\u001b[39mtimeout)\n",
      "File \u001b[1;32md:\\Programming-Language\\miniconda3\\envs\\Dubhe\\lib\\subprocess.py:971\u001b[0m, in \u001b[0;36mPopen.__init__\u001b[1;34m(self, args, bufsize, executable, stdin, stdout, stderr, preexec_fn, close_fds, shell, cwd, env, universal_newlines, startupinfo, creationflags, restore_signals, start_new_session, pass_fds, user, group, extra_groups, encoding, errors, text, umask, pipesize)\u001b[0m\n\u001b[0;32m    967\u001b[0m         \u001b[38;5;28;01mif\u001b[39;00m \u001b[38;5;28mself\u001b[39m\u001b[38;5;241m.\u001b[39mtext_mode:\n\u001b[0;32m    968\u001b[0m             \u001b[38;5;28mself\u001b[39m\u001b[38;5;241m.\u001b[39mstderr \u001b[38;5;241m=\u001b[39m io\u001b[38;5;241m.\u001b[39mTextIOWrapper(\u001b[38;5;28mself\u001b[39m\u001b[38;5;241m.\u001b[39mstderr,\n\u001b[0;32m    969\u001b[0m                     encoding\u001b[38;5;241m=\u001b[39mencoding, errors\u001b[38;5;241m=\u001b[39merrors)\n\u001b[1;32m--> 971\u001b[0m     \u001b[38;5;28;43mself\u001b[39;49m\u001b[38;5;241;43m.\u001b[39;49m\u001b[43m_execute_child\u001b[49m\u001b[43m(\u001b[49m\u001b[43margs\u001b[49m\u001b[43m,\u001b[49m\u001b[43m \u001b[49m\u001b[43mexecutable\u001b[49m\u001b[43m,\u001b[49m\u001b[43m \u001b[49m\u001b[43mpreexec_fn\u001b[49m\u001b[43m,\u001b[49m\u001b[43m \u001b[49m\u001b[43mclose_fds\u001b[49m\u001b[43m,\u001b[49m\n\u001b[0;32m    972\u001b[0m \u001b[43m                        \u001b[49m\u001b[43mpass_fds\u001b[49m\u001b[43m,\u001b[49m\u001b[43m \u001b[49m\u001b[43mcwd\u001b[49m\u001b[43m,\u001b[49m\u001b[43m \u001b[49m\u001b[43menv\u001b[49m\u001b[43m,\u001b[49m\n\u001b[0;32m    973\u001b[0m \u001b[43m                        \u001b[49m\u001b[43mstartupinfo\u001b[49m\u001b[43m,\u001b[49m\u001b[43m \u001b[49m\u001b[43mcreationflags\u001b[49m\u001b[43m,\u001b[49m\u001b[43m \u001b[49m\u001b[43mshell\u001b[49m\u001b[43m,\u001b[49m\n\u001b[0;32m    974\u001b[0m \u001b[43m                        \u001b[49m\u001b[43mp2cread\u001b[49m\u001b[43m,\u001b[49m\u001b[43m \u001b[49m\u001b[43mp2cwrite\u001b[49m\u001b[43m,\u001b[49m\n\u001b[0;32m    975\u001b[0m \u001b[43m                        \u001b[49m\u001b[43mc2pread\u001b[49m\u001b[43m,\u001b[49m\u001b[43m \u001b[49m\u001b[43mc2pwrite\u001b[49m\u001b[43m,\u001b[49m\n\u001b[0;32m    976\u001b[0m \u001b[43m                        \u001b[49m\u001b[43merrread\u001b[49m\u001b[43m,\u001b[49m\u001b[43m \u001b[49m\u001b[43merrwrite\u001b[49m\u001b[43m,\u001b[49m\n\u001b[0;32m    977\u001b[0m \u001b[43m                        \u001b[49m\u001b[43mrestore_signals\u001b[49m\u001b[43m,\u001b[49m\n\u001b[0;32m    978\u001b[0m \u001b[43m                        \u001b[49m\u001b[43mgid\u001b[49m\u001b[43m,\u001b[49m\u001b[43m \u001b[49m\u001b[43mgids\u001b[49m\u001b[43m,\u001b[49m\u001b[43m \u001b[49m\u001b[43muid\u001b[49m\u001b[43m,\u001b[49m\u001b[43m \u001b[49m\u001b[43mumask\u001b[49m\u001b[43m,\u001b[49m\n\u001b[0;32m    979\u001b[0m \u001b[43m                        \u001b[49m\u001b[43mstart_new_session\u001b[49m\u001b[43m)\u001b[49m\n\u001b[0;32m    980\u001b[0m \u001b[38;5;28;01mexcept\u001b[39;00m:\n\u001b[0;32m    981\u001b[0m     \u001b[38;5;66;03m# Cleanup if the child failed starting.\u001b[39;00m\n\u001b[0;32m    982\u001b[0m     \u001b[38;5;28;01mfor\u001b[39;00m f \u001b[38;5;129;01min\u001b[39;00m \u001b[38;5;28mfilter\u001b[39m(\u001b[38;5;28;01mNone\u001b[39;00m, (\u001b[38;5;28mself\u001b[39m\u001b[38;5;241m.\u001b[39mstdin, \u001b[38;5;28mself\u001b[39m\u001b[38;5;241m.\u001b[39mstdout, \u001b[38;5;28mself\u001b[39m\u001b[38;5;241m.\u001b[39mstderr)):\n",
      "File \u001b[1;32md:\\Programming-Language\\miniconda3\\envs\\Dubhe\\lib\\subprocess.py:1456\u001b[0m, in \u001b[0;36mPopen._execute_child\u001b[1;34m(self, args, executable, preexec_fn, close_fds, pass_fds, cwd, env, startupinfo, creationflags, shell, p2cread, p2cwrite, c2pread, c2pwrite, errread, errwrite, unused_restore_signals, unused_gid, unused_gids, unused_uid, unused_umask, unused_start_new_session)\u001b[0m\n\u001b[0;32m   1454\u001b[0m \u001b[38;5;66;03m# Start the process\u001b[39;00m\n\u001b[0;32m   1455\u001b[0m \u001b[38;5;28;01mtry\u001b[39;00m:\n\u001b[1;32m-> 1456\u001b[0m     hp, ht, pid, tid \u001b[38;5;241m=\u001b[39m \u001b[43m_winapi\u001b[49m\u001b[38;5;241;43m.\u001b[39;49m\u001b[43mCreateProcess\u001b[49m\u001b[43m(\u001b[49m\u001b[43mexecutable\u001b[49m\u001b[43m,\u001b[49m\u001b[43m \u001b[49m\u001b[43margs\u001b[49m\u001b[43m,\u001b[49m\n\u001b[0;32m   1457\u001b[0m \u001b[43m                             \u001b[49m\u001b[38;5;66;43;03m# no special security\u001b[39;49;00m\n\u001b[0;32m   1458\u001b[0m \u001b[43m                             \u001b[49m\u001b[38;5;28;43;01mNone\u001b[39;49;00m\u001b[43m,\u001b[49m\u001b[43m \u001b[49m\u001b[38;5;28;43;01mNone\u001b[39;49;00m\u001b[43m,\u001b[49m\n\u001b[0;32m   1459\u001b[0m \u001b[43m                             \u001b[49m\u001b[38;5;28;43mint\u001b[39;49m\u001b[43m(\u001b[49m\u001b[38;5;129;43;01mnot\u001b[39;49;00m\u001b[43m \u001b[49m\u001b[43mclose_fds\u001b[49m\u001b[43m)\u001b[49m\u001b[43m,\u001b[49m\n\u001b[0;32m   1460\u001b[0m \u001b[43m                             \u001b[49m\u001b[43mcreationflags\u001b[49m\u001b[43m,\u001b[49m\n\u001b[0;32m   1461\u001b[0m \u001b[43m                             \u001b[49m\u001b[43menv\u001b[49m\u001b[43m,\u001b[49m\n\u001b[0;32m   1462\u001b[0m \u001b[43m                             \u001b[49m\u001b[43mcwd\u001b[49m\u001b[43m,\u001b[49m\n\u001b[0;32m   1463\u001b[0m \u001b[43m                             \u001b[49m\u001b[43mstartupinfo\u001b[49m\u001b[43m)\u001b[49m\n\u001b[0;32m   1464\u001b[0m \u001b[38;5;28;01mfinally\u001b[39;00m:\n\u001b[0;32m   1465\u001b[0m     \u001b[38;5;66;03m# Child is launched. Close the parent's copy of those pipe\u001b[39;00m\n\u001b[0;32m   1466\u001b[0m     \u001b[38;5;66;03m# handles that only the child should have open.  You need\u001b[39;00m\n\u001b[1;32m   (...)\u001b[0m\n\u001b[0;32m   1469\u001b[0m     \u001b[38;5;66;03m# pipe will not close when the child process exits and the\u001b[39;00m\n\u001b[0;32m   1470\u001b[0m     \u001b[38;5;66;03m# ReadFile will hang.\u001b[39;00m\n\u001b[0;32m   1471\u001b[0m     \u001b[38;5;28mself\u001b[39m\u001b[38;5;241m.\u001b[39m_close_pipe_fds(p2cread, p2cwrite,\n\u001b[0;32m   1472\u001b[0m                          c2pread, c2pwrite,\n\u001b[0;32m   1473\u001b[0m                          errread, errwrite)\n",
      "\u001b[1;31mFileNotFoundError\u001b[0m: [WinError 2] 系统找不到指定的文件。"
     ]
    }
   ],
   "source": [
    "execute_command(\"original\")\n"
   ]
  },
  {
   "cell_type": "code",
   "execution_count": 21,
   "metadata": {},
   "outputs": [],
   "source": [
    "execute_command(\"adapted\")"
   ]
  },
  {
   "cell_type": "code",
   "execution_count": null,
   "metadata": {},
   "outputs": [],
   "source": []
  }
 ],
 "metadata": {
  "kernelspec": {
   "display_name": "Dubhe",
   "language": "python",
   "name": "python3"
  },
  "language_info": {
   "codemirror_mode": {
    "name": "ipython",
    "version": 3
   },
   "file_extension": ".py",
   "mimetype": "text/x-python",
   "name": "python",
   "nbconvert_exporter": "python",
   "pygments_lexer": "ipython3",
   "version": "3.10.11"
  }
 },
 "nbformat": 4,
 "nbformat_minor": 2
}

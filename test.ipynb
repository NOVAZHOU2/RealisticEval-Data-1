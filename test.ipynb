{
 "cells": [
  {
   "cell_type": "code",
   "execution_count": null,
   "id": "initial_id",
   "metadata": {
    "collapsed": true
   },
   "outputs": [],
   "source": [
    "\n",
    "def openFiles(task_id):\n",
    "    "
   ]
  },
  {
   "metadata": {
    "ExecuteTime": {
     "end_time": "2024-10-12T13:12:27.218533Z",
     "start_time": "2024-10-12T13:12:26.080007Z"
    }
   },
   "cell_type": "code",
   "source": [
    "import os\n",
    "\n",
    "# 设置你的PyCharm可执行文件的路径\n",
    "pycharm_path = \"pycharm64.exe\"\n",
    "\n",
    "# 设置你的目录路径\n",
    "code_type = [\"c&cpp\",\"java\",\"javascript\",\"typescript\",\"python\"]\n",
    "task_id = \"t560\"\n",
    "# directory_path = f\"./all/{task_id}/\" + code_type[0]\n",
    "# directory_path = f\"./all/{task_id}/\" + code_type[1]\n",
    "# directory_path = f\"./all/{task_id}/\" + code_type[2]\n",
    "# directory_path = f\"./all/{task_id}/\" + code_type[3]\n",
    "directory_path = f\"./all/{task_id}/\" + code_type[4]\n",
    "# directory_path = f\"./all/{task_id}\"\n",
    "# 构建命令\n",
    "command = [pycharm_path]\n",
    "\n",
    "# 遍历目录及其子目录中的所有文件\n",
    "for root, dirs, files in os.walk(directory_path):\n",
    "    for file in files:\n",
    "        # 构建文件的完整路径\n",
    "        file_path = os.path.join(root, file)\n",
    "        # if \"c&cpp\" in file_path: continue\n",
    "        # 添加文件路径到命令\n",
    "        command.append(f'\"{file_path}\"')\n",
    "\n",
    "# 执行命令\n",
    "print(\"Executing command: \", ' '.join(command))\n",
    "os.system(' '.join(command))"
   ],
   "id": "1900d90059add91d",
   "outputs": [
    {
     "name": "stdout",
     "output_type": "stream",
     "text": [
      "Executing command:  pycharm64.exe \"./all/t560/python\\answer.py\" \"./all/t560/python\\answer.txt\" \"./all/t560/python\\signature.py\" \"./all/t560/python\\signature.txt\" \"./all/t560/python\\test.py\" \"./all/t560/python\\test.txt\"\n"
     ]
    },
    {
     "data": {
      "text/plain": [
       "0"
      ]
     },
     "execution_count": 39,
     "metadata": {},
     "output_type": "execute_result"
    }
   ],
   "execution_count": 39
  }
 ],
 "metadata": {
  "kernelspec": {
   "display_name": "Python 3",
   "language": "python",
   "name": "python3"
  },
  "language_info": {
   "codemirror_mode": {
    "name": "ipython",
    "version": 2
   },
   "file_extension": ".py",
   "mimetype": "text/x-python",
   "name": "python",
   "nbconvert_exporter": "python",
   "pygments_lexer": "ipython2",
   "version": "2.7.6"
  }
 },
 "nbformat": 4,
 "nbformat_minor": 5
}

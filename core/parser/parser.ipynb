{
 "cells": [
  {
   "cell_type": "code",
   "execution_count": 54,
   "metadata": {
    "collapsed": true
   },
   "outputs": [
    {
     "data": {
      "text/plain": "     task_id language original_id                project  \\\n0        1.0   python         485      sd12key.github.io   \n1        2.0   python         150  winget-script-creator   \n2        3.0   python         167           OCR-ensemble   \n3        4.0   python         825       nlnt-level-1and2   \n4        5.0   python         357              lglsi2-24   \n..       ...      ...         ...                    ...   \n356    441.0      NaN         NaN                FODLego   \n357    442.0      NaN         NaN         fiware-orion\\n   \n358    443.0      NaN         NaN            GQLSpection   \n359      NaN      NaN         NaN            GQLSpection   \n360    445.0      NaN         NaN             arena-py\\n   \n\n                                             file_path  \\\n0    sd12key.github.io\\8af95a6737f9fa2f7bebe49425e4...   \n1    winget-script-creator\\688a9c99a0f97bfbed1a620b...   \n2    OCR-ensemble\\95a327b1b3614806e66bff24d867aba44...   \n3    nlnt-level-1and2\\daa10c480d86ea0bce0bfdbe6b9df...   \n4    lglsi2-24\\ffe7f23207afeacb1c4e6dab20a013ef91f9...   \n..                                                 ...   \n356  FODLego\\d016a8dcc244d61d40a9059393df8916714703...   \n357  fiware-orion\\cca7d63318dee393d4e8874ada0f7790b...   \n358  GQLSpection\\19536007e2c2721b74b780daf4d15f6e31...   \n359  GQLSpection\\19536007e2c2721b74b780daf4d15f6e31...   \n360  arena-py\\0bd135904574bb26425a253ed4e67a7c92fa2...   \n\n                          question_type  \\\n0    Data processing and transformation   \n1     File operations and I/O operation   \n2    Machine learning and deep learning   \n3          Algorithm and data structure   \n4          Algorithm and data structure   \n..                                  ...   \n356                                 NaN   \n357                                 NaN   \n358                                 NaN   \n359                                 NaN   \n360                                 NaN   \n\n                                   task_summary_zh_GPT  \\\n0    智能地转换输入值的类型。尝试将输入值转换为一个整数，如果失败，则转换为一个浮点数，如果两者都...   \n1    允许用户通过输入程序名称来生成一个包含这些程序的PowerShell安装脚本，同时将用户输入...   \n2                            将给定图像的一部分，根据提供的四个角点进行旋转裁剪   \n3                                将四元数转换为绕Z轴旋转的偏航角（yaw）   \n4                                                 矩阵乘法   \n..                                                 ...   \n356                                                NaN   \n357                                                NaN   \n358                                                NaN   \n359                                                NaN   \n360                                                NaN   \n\n                                       task_summary_zh  \\\n0    对输入的字符串进行转换，首先看它是否是整数，如果是则转换为整数，不是则看它是否是浮点数，如果...   \n1       通过用户输入获得要安装程序的名称，生成一个PowerShell脚本，可以直接运行下载这些程序   \n2                       从给定的图像中，根据给定的四个点，裁剪去四个点连接而成的图片   \n3                                     将四元数转换为绕Z轴选择的偏航角   \n4                                               实现矩阵乘法   \n..                                                 ...   \n356                                                NaN   \n357                                                NaN   \n358                                                NaN   \n359                                                NaN   \n360                                                NaN   \n\n                                       task_summary_en  testcase_number  \\\n0    convert the input string, first see if it is a...              5.0   \n1    The name of the program to be installed is obt...              5.0   \n2    From the given image, according to the given f...              NaN   \n3    The quaternion is converted to a selected yaw ...              5.0   \n4                 Implementing matrix multiplication\\n              4.0   \n..                                                 ...              ...   \n356                                                NaN              NaN   \n357                                                NaN              NaN   \n358                                                NaN              NaN   \n359                                                NaN              NaN   \n360                                                NaN              NaN   \n\n    original_code_single_run original_code_pass_test adapted_code_pass_test  \\\n0                        yes                     yes                    yes   \n1                         no                     yes                    yes   \n2                        NaN                      no                     no   \n3                        yes                     yes                    yes   \n4                        yes                     yes                    yes   \n..                       ...                     ...                    ...   \n356                      NaN                     NaN                    NaN   \n357                      NaN                     NaN                    NaN   \n358                      NaN                     NaN                    NaN   \n359                      NaN                     NaN                    NaN   \n360                      NaN                     NaN                    NaN   \n\n    author code_type   status check  \n0      陈浩轩    method   finish   yes  \n1      陈浩轩    method   finish   yes  \n2      陈浩轩       NaN  pending   NaN  \n3      陈浩轩    method   finish   yes  \n4      陈浩轩    method   finish   yes  \n..     ...       ...      ...   ...  \n356    NaN       NaN      NaN   NaN  \n357    NaN       NaN      NaN   NaN  \n358    NaN       NaN      NaN   NaN  \n359    NaN       NaN      NaN   NaN  \n360    NaN       NaN      NaN   NaN  \n\n[361 rows x 17 columns]",
      "text/html": "<div>\n<style scoped>\n    .dataframe tbody tr th:only-of-type {\n        vertical-align: middle;\n    }\n\n    .dataframe tbody tr th {\n        vertical-align: top;\n    }\n\n    .dataframe thead th {\n        text-align: right;\n    }\n</style>\n<table border=\"1\" class=\"dataframe\">\n  <thead>\n    <tr style=\"text-align: right;\">\n      <th></th>\n      <th>task_id</th>\n      <th>language</th>\n      <th>original_id</th>\n      <th>project</th>\n      <th>file_path</th>\n      <th>question_type</th>\n      <th>task_summary_zh_GPT</th>\n      <th>task_summary_zh</th>\n      <th>task_summary_en</th>\n      <th>testcase_number</th>\n      <th>original_code_single_run</th>\n      <th>original_code_pass_test</th>\n      <th>adapted_code_pass_test</th>\n      <th>author</th>\n      <th>code_type</th>\n      <th>status</th>\n      <th>check</th>\n    </tr>\n  </thead>\n  <tbody>\n    <tr>\n      <th>0</th>\n      <td>1.0</td>\n      <td>python</td>\n      <td>485</td>\n      <td>sd12key.github.io</td>\n      <td>sd12key.github.io\\8af95a6737f9fa2f7bebe49425e4...</td>\n      <td>Data processing and transformation</td>\n      <td>智能地转换输入值的类型。尝试将输入值转换为一个整数，如果失败，则转换为一个浮点数，如果两者都...</td>\n      <td>对输入的字符串进行转换，首先看它是否是整数，如果是则转换为整数，不是则看它是否是浮点数，如果...</td>\n      <td>convert the input string, first see if it is a...</td>\n      <td>5.0</td>\n      <td>yes</td>\n      <td>yes</td>\n      <td>yes</td>\n      <td>陈浩轩</td>\n      <td>method</td>\n      <td>finish</td>\n      <td>yes</td>\n    </tr>\n    <tr>\n      <th>1</th>\n      <td>2.0</td>\n      <td>python</td>\n      <td>150</td>\n      <td>winget-script-creator</td>\n      <td>winget-script-creator\\688a9c99a0f97bfbed1a620b...</td>\n      <td>File operations and I/O operation</td>\n      <td>允许用户通过输入程序名称来生成一个包含这些程序的PowerShell安装脚本，同时将用户输入...</td>\n      <td>通过用户输入获得要安装程序的名称，生成一个PowerShell脚本，可以直接运行下载这些程序</td>\n      <td>The name of the program to be installed is obt...</td>\n      <td>5.0</td>\n      <td>no</td>\n      <td>yes</td>\n      <td>yes</td>\n      <td>陈浩轩</td>\n      <td>method</td>\n      <td>finish</td>\n      <td>yes</td>\n    </tr>\n    <tr>\n      <th>2</th>\n      <td>3.0</td>\n      <td>python</td>\n      <td>167</td>\n      <td>OCR-ensemble</td>\n      <td>OCR-ensemble\\95a327b1b3614806e66bff24d867aba44...</td>\n      <td>Machine learning and deep learning</td>\n      <td>将给定图像的一部分，根据提供的四个角点进行旋转裁剪</td>\n      <td>从给定的图像中，根据给定的四个点，裁剪去四个点连接而成的图片</td>\n      <td>From the given image, according to the given f...</td>\n      <td>NaN</td>\n      <td>NaN</td>\n      <td>no</td>\n      <td>no</td>\n      <td>陈浩轩</td>\n      <td>NaN</td>\n      <td>pending</td>\n      <td>NaN</td>\n    </tr>\n    <tr>\n      <th>3</th>\n      <td>4.0</td>\n      <td>python</td>\n      <td>825</td>\n      <td>nlnt-level-1and2</td>\n      <td>nlnt-level-1and2\\daa10c480d86ea0bce0bfdbe6b9df...</td>\n      <td>Algorithm and data structure</td>\n      <td>将四元数转换为绕Z轴旋转的偏航角（yaw）</td>\n      <td>将四元数转换为绕Z轴选择的偏航角</td>\n      <td>The quaternion is converted to a selected yaw ...</td>\n      <td>5.0</td>\n      <td>yes</td>\n      <td>yes</td>\n      <td>yes</td>\n      <td>陈浩轩</td>\n      <td>method</td>\n      <td>finish</td>\n      <td>yes</td>\n    </tr>\n    <tr>\n      <th>4</th>\n      <td>5.0</td>\n      <td>python</td>\n      <td>357</td>\n      <td>lglsi2-24</td>\n      <td>lglsi2-24\\ffe7f23207afeacb1c4e6dab20a013ef91f9...</td>\n      <td>Algorithm and data structure</td>\n      <td>矩阵乘法</td>\n      <td>实现矩阵乘法</td>\n      <td>Implementing matrix multiplication\\n</td>\n      <td>4.0</td>\n      <td>yes</td>\n      <td>yes</td>\n      <td>yes</td>\n      <td>陈浩轩</td>\n      <td>method</td>\n      <td>finish</td>\n      <td>yes</td>\n    </tr>\n    <tr>\n      <th>...</th>\n      <td>...</td>\n      <td>...</td>\n      <td>...</td>\n      <td>...</td>\n      <td>...</td>\n      <td>...</td>\n      <td>...</td>\n      <td>...</td>\n      <td>...</td>\n      <td>...</td>\n      <td>...</td>\n      <td>...</td>\n      <td>...</td>\n      <td>...</td>\n      <td>...</td>\n      <td>...</td>\n      <td>...</td>\n    </tr>\n    <tr>\n      <th>356</th>\n      <td>441.0</td>\n      <td>NaN</td>\n      <td>NaN</td>\n      <td>FODLego</td>\n      <td>FODLego\\d016a8dcc244d61d40a9059393df8916714703...</td>\n      <td>NaN</td>\n      <td>NaN</td>\n      <td>NaN</td>\n      <td>NaN</td>\n      <td>NaN</td>\n      <td>NaN</td>\n      <td>NaN</td>\n      <td>NaN</td>\n      <td>NaN</td>\n      <td>NaN</td>\n      <td>NaN</td>\n      <td>NaN</td>\n    </tr>\n    <tr>\n      <th>357</th>\n      <td>442.0</td>\n      <td>NaN</td>\n      <td>NaN</td>\n      <td>fiware-orion\\n</td>\n      <td>fiware-orion\\cca7d63318dee393d4e8874ada0f7790b...</td>\n      <td>NaN</td>\n      <td>NaN</td>\n      <td>NaN</td>\n      <td>NaN</td>\n      <td>NaN</td>\n      <td>NaN</td>\n      <td>NaN</td>\n      <td>NaN</td>\n      <td>NaN</td>\n      <td>NaN</td>\n      <td>NaN</td>\n      <td>NaN</td>\n    </tr>\n    <tr>\n      <th>358</th>\n      <td>443.0</td>\n      <td>NaN</td>\n      <td>NaN</td>\n      <td>GQLSpection</td>\n      <td>GQLSpection\\19536007e2c2721b74b780daf4d15f6e31...</td>\n      <td>NaN</td>\n      <td>NaN</td>\n      <td>NaN</td>\n      <td>NaN</td>\n      <td>NaN</td>\n      <td>NaN</td>\n      <td>NaN</td>\n      <td>NaN</td>\n      <td>NaN</td>\n      <td>NaN</td>\n      <td>NaN</td>\n      <td>NaN</td>\n    </tr>\n    <tr>\n      <th>359</th>\n      <td>NaN</td>\n      <td>NaN</td>\n      <td>NaN</td>\n      <td>GQLSpection</td>\n      <td>GQLSpection\\19536007e2c2721b74b780daf4d15f6e31...</td>\n      <td>NaN</td>\n      <td>NaN</td>\n      <td>NaN</td>\n      <td>NaN</td>\n      <td>NaN</td>\n      <td>NaN</td>\n      <td>NaN</td>\n      <td>NaN</td>\n      <td>NaN</td>\n      <td>NaN</td>\n      <td>NaN</td>\n      <td>NaN</td>\n    </tr>\n    <tr>\n      <th>360</th>\n      <td>445.0</td>\n      <td>NaN</td>\n      <td>NaN</td>\n      <td>arena-py\\n</td>\n      <td>arena-py\\0bd135904574bb26425a253ed4e67a7c92fa2...</td>\n      <td>NaN</td>\n      <td>NaN</td>\n      <td>NaN</td>\n      <td>NaN</td>\n      <td>NaN</td>\n      <td>NaN</td>\n      <td>NaN</td>\n      <td>NaN</td>\n      <td>NaN</td>\n      <td>NaN</td>\n      <td>NaN</td>\n      <td>NaN</td>\n    </tr>\n  </tbody>\n</table>\n<p>361 rows × 17 columns</p>\n</div>"
     },
     "execution_count": 54,
     "metadata": {},
     "output_type": "execute_result"
    }
   ],
   "source": [
    "import pandas as pd\n",
    "import os\n",
    "import json\n",
    "# 读取xlsx文件\n",
    "data = pd.read_excel(\"./RealisticEval-Data.xlsx\")\n",
    "data"
   ]
  },
  {
   "cell_type": "code",
   "execution_count": 55,
   "outputs": [
    {
     "data": {
      "text/plain": "     task_id language original_id                          project  \\\n0        1.0   python         485                sd12key.github.io   \n1        2.0   python         150            winget-script-creator   \n3        4.0   python         825                 nlnt-level-1and2   \n4        5.0   python         357                        lglsi2-24   \n5        6.0   python         937                        brickflow   \n..       ...      ...         ...                              ...   \n280    356.0    c&cpp          n5                      EpicPitfall   \n281    357.0    c&cpp          n9  Algorithmen_und_Datenstrukturen   \n282    358.0    c&cpp         n19                   cpp-challenges   \n283    359.0    c&cpp         n20                    parallel_repo   \n284    360.0    c&cpp         n21                            GraST   \n\n                                             file_path  \\\n0    sd12key.github.io\\8af95a6737f9fa2f7bebe49425e4...   \n1    winget-script-creator\\688a9c99a0f97bfbed1a620b...   \n3    nlnt-level-1and2\\daa10c480d86ea0bce0bfdbe6b9df...   \n4    lglsi2-24\\ffe7f23207afeacb1c4e6dab20a013ef91f9...   \n5    brickflow\\49ec3c352b56fed12ee38cf357ee4c10e75c...   \n..                                                 ...   \n280  EpicPitfall\\d1587187ba41a5b64636bbe4b0de383214...   \n281  Algorithmen_und_Datenstrukturen\\60a962dd2f2025...   \n282  cpp-challenges\\9bd4a353ca153e7eeb3effda1fd8665...   \n283  parallel_repo\\527b162e693205f7bd7c8a680113cc71...   \n284  GraST\\524b8e82169dedbefd0646cb56f1e26d434cfb68...   \n\n                          question_type  \\\n0    Data processing and transformation   \n1     File operations and I/O operation   \n3          Algorithm and data structure   \n4          Algorithm and data structure   \n5    Data processing and transformation   \n..                                  ...   \n280        Algorithm and data structure   \n281        Algorithm and data structure   \n282        Algorithm and data structure   \n283        Algorithm and data structure   \n284  Data processing and transformation   \n\n                                   task_summary_zh_GPT  \\\n0    智能地转换输入值的类型。尝试将输入值转换为一个整数，如果失败，则转换为一个浮点数，如果两者都...   \n1    允许用户通过输入程序名称来生成一个包含这些程序的PowerShell安装脚本，同时将用户输入...   \n3                                将四元数转换为绕Z轴旋转的偏航角（yaw）   \n4                                                 矩阵乘法   \n5                                将文件系统路径格式化为简化的名称字符串\\n   \n..                                                 ...   \n280                                             实现冒泡排序   \n281                                             实现希尔排序   \n282  实现如题所述的名字排序，我们需要一个自定义比较函数，该函数能够同时处理数字排序和名字的字母顺序排序   \n283              实现了数值积分中的梯形规则，用于估算函数在给定区间 [a, b] 上的积分   \n284  用于从文件路径中提取最后一部分，即文件名或最终目录名。它通过查找最后一个路径分隔符，然后截取...   \n\n                                       task_summary_zh  \\\n0    对输入的字符串进行转换，首先看它是否是整数，如果是则转换为整数，不是则看它是否是浮点数，如果...   \n1       通过用户输入获得要安装程序的名称，生成一个PowerShell脚本，可以直接运行下载这些程序   \n3                                     将四元数转换为绕Z轴选择的偏航角   \n4                                               实现矩阵乘法   \n5    将windows系统中的文件路径统一简化为名称字符串，例如D:\\downlaod\\text....   \n..                                                 ...   \n280                                           实现冒泡排序算法   \n281  实现通用的希尔排序算法，返回自定义结构体Sort_stats，包含算法名称、数组大小、比较次...   \n282   对给定形如\"名字+数字\"的字符串数组按数字升序排序，若数字相同则按名字升序排序，返回排序后的数组   \n283               利用数值积分中的梯形法则计算给定函数在给定区间[a,b]上的的积分近似值   \n284        借助路径分隔符从一个完整的文件路径中提取最后一部分并返回，若未找到分隔符则返回原字符串   \n\n                                       task_summary_en  testcase_number  \\\n0    convert the input string, first see if it is a...              5.0   \n1    The name of the program to be installed is obt...              5.0   \n3    The quaternion is converted to a selected yaw ...              5.0   \n4                 Implementing matrix multiplication\\n              4.0   \n5    simplify file paths in windows systems into na...              5.0   \n..                                                 ...              ...   \n280                    Implement bubble sort algorithm              5.0   \n281  Implements a generic Hill sorting algorithm an...             25.0   \n282  Sort the string array with the shape of \"name ...              5.0   \n283  Calculate the integral approximation of a give...              5.0   \n284  Extracts the last part of a complete file path...              5.0   \n\n    original_code_single_run original_code_pass_test adapted_code_pass_test  \\\n0                        yes                     yes                    yes   \n1                         no                     yes                    yes   \n3                        yes                     yes                    yes   \n4                        yes                     yes                    yes   \n5                        yes                      no                    yes   \n..                       ...                     ...                    ...   \n280                       no                      no                    yes   \n281                       no                      no                    yes   \n282                       no                      no                    yes   \n283                       no                      no                    yes   \n284                       no                     yes                    yes   \n\n    author code_type  status check  \n0      陈浩轩    method  finish   yes  \n1      陈浩轩    method  finish   yes  \n3      陈浩轩    method  finish   yes  \n4      陈浩轩    method  finish   yes  \n5      陈浩轩    method  finish   yes  \n..     ...       ...     ...   ...  \n280    黄若煊    method  finish   yes  \n281    黄若煊    method  finish   yes  \n282    黄若煊    method  finish   yes  \n283    黄若煊    method  finish   yes  \n284    黄若煊    method  finish   yes  \n\n[251 rows x 17 columns]",
      "text/html": "<div>\n<style scoped>\n    .dataframe tbody tr th:only-of-type {\n        vertical-align: middle;\n    }\n\n    .dataframe tbody tr th {\n        vertical-align: top;\n    }\n\n    .dataframe thead th {\n        text-align: right;\n    }\n</style>\n<table border=\"1\" class=\"dataframe\">\n  <thead>\n    <tr style=\"text-align: right;\">\n      <th></th>\n      <th>task_id</th>\n      <th>language</th>\n      <th>original_id</th>\n      <th>project</th>\n      <th>file_path</th>\n      <th>question_type</th>\n      <th>task_summary_zh_GPT</th>\n      <th>task_summary_zh</th>\n      <th>task_summary_en</th>\n      <th>testcase_number</th>\n      <th>original_code_single_run</th>\n      <th>original_code_pass_test</th>\n      <th>adapted_code_pass_test</th>\n      <th>author</th>\n      <th>code_type</th>\n      <th>status</th>\n      <th>check</th>\n    </tr>\n  </thead>\n  <tbody>\n    <tr>\n      <th>0</th>\n      <td>1.0</td>\n      <td>python</td>\n      <td>485</td>\n      <td>sd12key.github.io</td>\n      <td>sd12key.github.io\\8af95a6737f9fa2f7bebe49425e4...</td>\n      <td>Data processing and transformation</td>\n      <td>智能地转换输入值的类型。尝试将输入值转换为一个整数，如果失败，则转换为一个浮点数，如果两者都...</td>\n      <td>对输入的字符串进行转换，首先看它是否是整数，如果是则转换为整数，不是则看它是否是浮点数，如果...</td>\n      <td>convert the input string, first see if it is a...</td>\n      <td>5.0</td>\n      <td>yes</td>\n      <td>yes</td>\n      <td>yes</td>\n      <td>陈浩轩</td>\n      <td>method</td>\n      <td>finish</td>\n      <td>yes</td>\n    </tr>\n    <tr>\n      <th>1</th>\n      <td>2.0</td>\n      <td>python</td>\n      <td>150</td>\n      <td>winget-script-creator</td>\n      <td>winget-script-creator\\688a9c99a0f97bfbed1a620b...</td>\n      <td>File operations and I/O operation</td>\n      <td>允许用户通过输入程序名称来生成一个包含这些程序的PowerShell安装脚本，同时将用户输入...</td>\n      <td>通过用户输入获得要安装程序的名称，生成一个PowerShell脚本，可以直接运行下载这些程序</td>\n      <td>The name of the program to be installed is obt...</td>\n      <td>5.0</td>\n      <td>no</td>\n      <td>yes</td>\n      <td>yes</td>\n      <td>陈浩轩</td>\n      <td>method</td>\n      <td>finish</td>\n      <td>yes</td>\n    </tr>\n    <tr>\n      <th>3</th>\n      <td>4.0</td>\n      <td>python</td>\n      <td>825</td>\n      <td>nlnt-level-1and2</td>\n      <td>nlnt-level-1and2\\daa10c480d86ea0bce0bfdbe6b9df...</td>\n      <td>Algorithm and data structure</td>\n      <td>将四元数转换为绕Z轴旋转的偏航角（yaw）</td>\n      <td>将四元数转换为绕Z轴选择的偏航角</td>\n      <td>The quaternion is converted to a selected yaw ...</td>\n      <td>5.0</td>\n      <td>yes</td>\n      <td>yes</td>\n      <td>yes</td>\n      <td>陈浩轩</td>\n      <td>method</td>\n      <td>finish</td>\n      <td>yes</td>\n    </tr>\n    <tr>\n      <th>4</th>\n      <td>5.0</td>\n      <td>python</td>\n      <td>357</td>\n      <td>lglsi2-24</td>\n      <td>lglsi2-24\\ffe7f23207afeacb1c4e6dab20a013ef91f9...</td>\n      <td>Algorithm and data structure</td>\n      <td>矩阵乘法</td>\n      <td>实现矩阵乘法</td>\n      <td>Implementing matrix multiplication\\n</td>\n      <td>4.0</td>\n      <td>yes</td>\n      <td>yes</td>\n      <td>yes</td>\n      <td>陈浩轩</td>\n      <td>method</td>\n      <td>finish</td>\n      <td>yes</td>\n    </tr>\n    <tr>\n      <th>5</th>\n      <td>6.0</td>\n      <td>python</td>\n      <td>937</td>\n      <td>brickflow</td>\n      <td>brickflow\\49ec3c352b56fed12ee38cf357ee4c10e75c...</td>\n      <td>Data processing and transformation</td>\n      <td>将文件系统路径格式化为简化的名称字符串\\n</td>\n      <td>将windows系统中的文件路径统一简化为名称字符串，例如D:\\downlaod\\text....</td>\n      <td>simplify file paths in windows systems into na...</td>\n      <td>5.0</td>\n      <td>yes</td>\n      <td>no</td>\n      <td>yes</td>\n      <td>陈浩轩</td>\n      <td>method</td>\n      <td>finish</td>\n      <td>yes</td>\n    </tr>\n    <tr>\n      <th>...</th>\n      <td>...</td>\n      <td>...</td>\n      <td>...</td>\n      <td>...</td>\n      <td>...</td>\n      <td>...</td>\n      <td>...</td>\n      <td>...</td>\n      <td>...</td>\n      <td>...</td>\n      <td>...</td>\n      <td>...</td>\n      <td>...</td>\n      <td>...</td>\n      <td>...</td>\n      <td>...</td>\n      <td>...</td>\n    </tr>\n    <tr>\n      <th>280</th>\n      <td>356.0</td>\n      <td>c&amp;cpp</td>\n      <td>n5</td>\n      <td>EpicPitfall</td>\n      <td>EpicPitfall\\d1587187ba41a5b64636bbe4b0de383214...</td>\n      <td>Algorithm and data structure</td>\n      <td>实现冒泡排序</td>\n      <td>实现冒泡排序算法</td>\n      <td>Implement bubble sort algorithm</td>\n      <td>5.0</td>\n      <td>no</td>\n      <td>no</td>\n      <td>yes</td>\n      <td>黄若煊</td>\n      <td>method</td>\n      <td>finish</td>\n      <td>yes</td>\n    </tr>\n    <tr>\n      <th>281</th>\n      <td>357.0</td>\n      <td>c&amp;cpp</td>\n      <td>n9</td>\n      <td>Algorithmen_und_Datenstrukturen</td>\n      <td>Algorithmen_und_Datenstrukturen\\60a962dd2f2025...</td>\n      <td>Algorithm and data structure</td>\n      <td>实现希尔排序</td>\n      <td>实现通用的希尔排序算法，返回自定义结构体Sort_stats，包含算法名称、数组大小、比较次...</td>\n      <td>Implements a generic Hill sorting algorithm an...</td>\n      <td>25.0</td>\n      <td>no</td>\n      <td>no</td>\n      <td>yes</td>\n      <td>黄若煊</td>\n      <td>method</td>\n      <td>finish</td>\n      <td>yes</td>\n    </tr>\n    <tr>\n      <th>282</th>\n      <td>358.0</td>\n      <td>c&amp;cpp</td>\n      <td>n19</td>\n      <td>cpp-challenges</td>\n      <td>cpp-challenges\\9bd4a353ca153e7eeb3effda1fd8665...</td>\n      <td>Algorithm and data structure</td>\n      <td>实现如题所述的名字排序，我们需要一个自定义比较函数，该函数能够同时处理数字排序和名字的字母顺序排序</td>\n      <td>对给定形如\"名字+数字\"的字符串数组按数字升序排序，若数字相同则按名字升序排序，返回排序后的数组</td>\n      <td>Sort the string array with the shape of \"name ...</td>\n      <td>5.0</td>\n      <td>no</td>\n      <td>no</td>\n      <td>yes</td>\n      <td>黄若煊</td>\n      <td>method</td>\n      <td>finish</td>\n      <td>yes</td>\n    </tr>\n    <tr>\n      <th>283</th>\n      <td>359.0</td>\n      <td>c&amp;cpp</td>\n      <td>n20</td>\n      <td>parallel_repo</td>\n      <td>parallel_repo\\527b162e693205f7bd7c8a680113cc71...</td>\n      <td>Algorithm and data structure</td>\n      <td>实现了数值积分中的梯形规则，用于估算函数在给定区间 [a, b] 上的积分</td>\n      <td>利用数值积分中的梯形法则计算给定函数在给定区间[a,b]上的的积分近似值</td>\n      <td>Calculate the integral approximation of a give...</td>\n      <td>5.0</td>\n      <td>no</td>\n      <td>no</td>\n      <td>yes</td>\n      <td>黄若煊</td>\n      <td>method</td>\n      <td>finish</td>\n      <td>yes</td>\n    </tr>\n    <tr>\n      <th>284</th>\n      <td>360.0</td>\n      <td>c&amp;cpp</td>\n      <td>n21</td>\n      <td>GraST</td>\n      <td>GraST\\524b8e82169dedbefd0646cb56f1e26d434cfb68...</td>\n      <td>Data processing and transformation</td>\n      <td>用于从文件路径中提取最后一部分，即文件名或最终目录名。它通过查找最后一个路径分隔符，然后截取...</td>\n      <td>借助路径分隔符从一个完整的文件路径中提取最后一部分并返回，若未找到分隔符则返回原字符串</td>\n      <td>Extracts the last part of a complete file path...</td>\n      <td>5.0</td>\n      <td>no</td>\n      <td>yes</td>\n      <td>yes</td>\n      <td>黄若煊</td>\n      <td>method</td>\n      <td>finish</td>\n      <td>yes</td>\n    </tr>\n  </tbody>\n</table>\n<p>251 rows × 17 columns</p>\n</div>"
     },
     "execution_count": 55,
     "metadata": {},
     "output_type": "execute_result"
    }
   ],
   "source": [
    "data = data[data['check'] =='yes']\n",
    "data"
   ],
   "metadata": {
    "collapsed": false
   }
  },
  {
   "cell_type": "code",
   "execution_count": 56,
   "outputs": [],
   "source": [
    "def python_question_parse(task_id):\n",
    "    work_path = f\"../../total_python/t{int(task_id)}\"\n",
    "    test_path = f\"{work_path}/test/test.py\"\n",
    "    with open(test_path, \"r\", encoding=\"utf8\") as test_file:\n",
    "        test_content = test_file.read()\n",
    "    signature_path = f\"{work_path}/signature.py\"\n",
    "    with open(signature_path, \"r\", encoding=\"utf8\") as signature_file:\n",
    "        signature_content = signature_file.read()\n",
    "    return test_content, signature_content"
   ],
   "metadata": {
    "collapsed": false
   }
  },
  {
   "cell_type": "code",
   "execution_count": 57,
   "outputs": [],
   "source": [
    "def javascript_question_parse(task_id):\n",
    "    work_path = f\"../../total_javascript/t{int(task_id)}\"\n",
    "    test_path = f\"{work_path}/test/test.js\"\n",
    "    with open(test_path, \"r\", encoding=\"utf8\") as test_file:\n",
    "        test_content = test_file.read()\n",
    "    signature_path = f\"{work_path}/signature.js\"\n",
    "    with open(signature_path, \"r\", encoding=\"utf8\") as signature_file:\n",
    "        signature_content = signature_file.read()\n",
    "    return test_content, signature_content"
   ],
   "metadata": {
    "collapsed": false
   }
  },
  {
   "cell_type": "code",
   "execution_count": 58,
   "outputs": [],
   "source": [
    "def typescript_question_parse(task_id):\n",
    "    work_path = f\"../../total_typescript/t{int(task_id)}\"\n",
    "    test_path = f\"{work_path}/test/test.ts\"\n",
    "    with open(test_path, \"r\", encoding=\"utf8\") as test_file:\n",
    "        test_content = test_file.read()\n",
    "    signature_path = f\"{work_path}/signature.ts\"\n",
    "    with open(signature_path, \"r\", encoding=\"utf8\") as signature_file:\n",
    "        signature_content = signature_file.read()\n",
    "    return test_content, signature_content"
   ],
   "metadata": {
    "collapsed": false
   }
  },
  {
   "cell_type": "code",
   "execution_count": 59,
   "outputs": [],
   "source": [
    "def java_question_parse(task_id):\n",
    "    work_path = f\"../../total_java/src/main/java/com/real/t{int(task_id)}\"\n",
    "    test_path = f\"../../total_java/src/test/java/com/real/t{int(task_id)}/TestClass.java\"\n",
    "    with open(test_path, \"r\", encoding=\"utf8\") as test_file:\n",
    "        test_content = test_file.read()\n",
    "    signature_path = f\"{work_path}/signature.txt\"\n",
    "    with open(signature_path, \"r\", encoding=\"utf8\") as signature_file:\n",
    "        signature_content = signature_file.read()\n",
    "    return test_content, signature_content"
   ],
   "metadata": {
    "collapsed": false
   }
  },
  {
   "cell_type": "code",
   "execution_count": 60,
   "outputs": [],
   "source": [
    "def ccpp_question_parse(task_id):\n",
    "    work_path = f\"../../total_c&cpp/t{int(task_id)}\"\n",
    "    test_path = f\"{work_path}/test/test.cpp\"\n",
    "    with open(test_path, \"r\", encoding=\"utf8\") as test_file:\n",
    "        test_content = test_file.read()\n",
    "    signature_path = f\"{work_path}/signature.cpp\"\n",
    "    with open(signature_path, \"r\", encoding=\"utf8\") as signature_file:\n",
    "        signature_content = signature_file.read()\n",
    "    return test_content, signature_content"
   ],
   "metadata": {
    "collapsed": false
   }
  },
  {
   "cell_type": "code",
   "execution_count": 61,
   "outputs": [],
   "source": [
    "def question_parse(language,task_id):\n",
    "    func_map = {\n",
    "        \"python\": python_question_parse,\n",
    "        \"javascript\": javascript_question_parse,\n",
    "        \"typescript\": typescript_question_parse,\n",
    "        \"java\": java_question_parse,\n",
    "        \"c&cpp\": ccpp_question_parse\n",
    "    }\n",
    "    fn = func_map.get(language, None)\n",
    "    if not fn:\n",
    "        raise ValueError(\"no this language\")\n",
    "    else:\n",
    "        return fn(task_id)"
   ],
   "metadata": {
    "collapsed": false
   }
  },
  {
   "cell_type": "code",
   "execution_count": 62,
   "outputs": [],
   "source": [
    "def generate_prompt(language, type, code_signature):\n",
    "    template = \"\"\n",
    "    if type == \"method\":\n",
    "        template = f\"please write a {language} function the function signature as below {code_signature}\"\n",
    "    elif type == \"class\":\n",
    "        template = f\"please write a {language} class this class signature as below {code_signature}\"\n",
    "    return template"
   ],
   "metadata": {
    "collapsed": false
   }
  },
  {
   "cell_type": "code",
   "execution_count": 63,
   "outputs": [],
   "source": [
    "def code2file(language,info_list):\n",
    "    with open(f\"../../data/{language}.jsonl\",\"w\",encoding=\"utf8\") as file:\n",
    "        for item in info_list:\n",
    "            json_str = json.dumps(item)\n",
    "            file.write(json_str + \"\\n\")\n",
    "            file.flush()"
   ],
   "metadata": {
    "collapsed": false
   }
  },
  {
   "cell_type": "code",
   "execution_count": 64,
   "outputs": [],
   "source": [
    "language_list_map = {\n",
    "    \"python\": [],\n",
    "    \"javascript\": [],\n",
    "    \"typescript\": [],\n",
    "    \"java\": [],\n",
    "    \"c&cpp\": []\n",
    "}\n",
    "for index, row in data.iterrows():\n",
    "    task_id = row[\"task_id\"]\n",
    "    code_type = row[\"code_type\"]\n",
    "    code_language = row[\"language\"]\n",
    "    test_code, code_signature = question_parse(code_language, task_id)\n",
    "    temp = {\n",
    "        \"task_id\": int(task_id),\n",
    "        \"code_type\": code_type,\n",
    "        \"code_language\": code_language,\n",
    "        \"code_signature\": code_signature,\n",
    "        \"test_code\": test_code,\n",
    "        \"prompt\": generate_prompt(code_language, code_type, code_signature)\n",
    "    }\n",
    "    temp_list = language_list_map[code_language]\n",
    "    temp_list.append(temp)\n",
    "# 遍历map\n",
    "for key, value in language_list_map.items():\n",
    "    code2file(key, value)"
   ],
   "metadata": {
    "collapsed": false
   }
  },
  {
   "cell_type": "code",
   "execution_count": null,
   "outputs": [],
   "source": [],
   "metadata": {
    "collapsed": false
   }
  }
 ],
 "metadata": {
  "kernelspec": {
   "display_name": "Python 3",
   "language": "python",
   "name": "python3"
  },
  "language_info": {
   "codemirror_mode": {
    "name": "ipython",
    "version": 2
   },
   "file_extension": ".py",
   "mimetype": "text/x-python",
   "name": "python",
   "nbconvert_exporter": "python",
   "pygments_lexer": "ipython2",
   "version": "2.7.6"
  }
 },
 "nbformat": 4,
 "nbformat_minor": 0
}

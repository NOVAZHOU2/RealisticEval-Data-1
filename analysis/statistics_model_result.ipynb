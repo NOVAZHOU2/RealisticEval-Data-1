{
 "cells": [
  {
   "cell_type": "markdown",
   "source": [
    "# LLM回答校验"
   ],
   "metadata": {
    "collapsed": false
   }
  },
  {
   "cell_type": "code",
   "execution_count": 1,
   "metadata": {
    "collapsed": true
   },
   "outputs": [],
   "source": [
    "import os"
   ]
  },
  {
   "cell_type": "code",
   "execution_count": 2,
   "outputs": [],
   "source": [
    "def delete_non_ipynb_files():\n",
    "    # 获取当前工作目录\n",
    "    current_directory = os.getcwd()\n",
    "\n",
    "    # 遍历当前目录中的所有文件\n",
    "    for filename in os.listdir(current_directory):\n",
    "        # 检查文件是否为.ipynb文件\n",
    "        if not filename.endswith('.ipynb'):\n",
    "            file_path = os.path.join(current_directory, filename)\n",
    "            # 检查路径是否为文件，避免删除目录\n",
    "            if os.path.isfile(file_path):\n",
    "                try:\n",
    "                    # 删除文件\n",
    "                    os.remove(file_path)\n",
    "                    print(f\"Deleted: {file_path}\")\n",
    "                except Exception as e:\n",
    "                    print(f\"Error deleting {file_path}: {e}\")\n"
   ],
   "metadata": {
    "collapsed": false
   }
  },
  {
   "cell_type": "code",
   "execution_count": 3,
   "outputs": [],
   "source": [
    "TASK_LIST = [\n",
    "    # {\n",
    "    #     \"model\": \"chatglm-6b\",\n",
    "    #     \"language\": [\"c&cpp\"]\n",
    "    # }\n",
    "    # {\n",
    "    #     \"model\": \"codegeex4-all-9b\",\n",
    "    #     \"language\": [\"javascript\", \"typescript\", \"c&cpp\"]\n",
    "    # },\n",
    "    # {\n",
    "    #     \"model\": \"codegen25-7b-instruct_P\",\n",
    "    #     \"language\": [\"c&cpp\"]\n",
    "    # },\n",
    "    # {\n",
    "    #     \"model\": \"deepseek-coder-6.7b-instruct\",\n",
    "    #     \"language\": [\"python\", \"javascript\", \"typescript\", \"c&cpp\"]\n",
    "    # },\n",
    "    # {\n",
    "    #     \"model\": \"Meta-Llama-3.1-8B-Instruct\",\n",
    "    #     \"language\": [\"javascript\"]\n",
    "    # },\n",
    "    # {\n",
    "    #     \"model\": \"Mistral-7B-Instruct-v0.3\",\n",
    "    #     \"language\": [\"python\", \"javascript\", \"typescript\", \"c&cpp\"]\n",
    "    # },\n",
    "    # {\n",
    "    #     \"model\": \"Phi-3-small-8k-instruct\",\n",
    "    #     \"language\": [\"typescript\"]\n",
    "    # },\n",
    "    # {\n",
    "    #     \"model\": \"CodeLlama-7b-hf\",\n",
    "    #     \"language\": [\"python\", \"javascript\", \"typescript\", \"c&cpp\"]\n",
    "    # },\n",
    "    # {\n",
    "    #     \"model\": \"starcoder2-7b\",\n",
    "    #     \"language\": [\"python\", \"javascript\", \"typescript\", \"c&cpp\"]\n",
    "    # },\n",
    "    {\n",
    "        \"model\": \"gpt-3.5-turbo\",\n",
    "        \"language\": [\"c&cpp\"]\n",
    "    }\n",
    "]\n",
    "ANSWER_PATH = \"E:\\code\\code_back\\python_project\\llm\\qa\""
   ],
   "metadata": {
    "collapsed": false
   }
  },
  {
   "cell_type": "code",
   "execution_count": 4,
   "outputs": [
    {
     "name": "stdout",
     "output_type": "stream",
     "text": [
      "c&cpp\n"
     ]
    },
    {
     "name": "stderr",
     "output_type": "stream",
     "text": [
      "  2%|▏         | 1/48 [00:15<12:09, 15.53s/it]"
     ]
    },
    {
     "name": "stdout",
     "output_type": "stream",
     "text": [
      "===============================================================================\n",
      "All tests passed (6 assertions in 1 test case)\n",
      "\n",
      "\n",
      "\n",
      "Process completed with return code: 0\n"
     ]
    },
    {
     "name": "stderr",
     "output_type": "stream",
     "text": [
      "  4%|▍         | 2/48 [00:30<11:48, 15.41s/it]"
     ]
    },
    {
     "name": "stdout",
     "output_type": "stream",
     "text": [
      "===============================================================================\n",
      "All tests passed (11 assertions in 1 test case)\n",
      "\n",
      "\n",
      "\n",
      "Process completed with return code: 0\n"
     ]
    },
    {
     "name": "stderr",
     "output_type": "stream",
     "text": [
      "  6%|▋         | 3/48 [00:33<07:04,  9.43s/it]"
     ]
    },
    {
     "name": "stdout",
     "output_type": "stream",
     "text": [
      "\n",
      "answer_check.cpp: In function 'void C_A_T_C_H_T_E_S_T_0()':\n",
      "answer_check.cpp:56:9: error: 'merge_sort' was not declared in this scope\n",
      "         merge_sort(empty_array, 0, empty_array.size() - 1);\n",
      "         ^~~~~~~~~~\n",
      "answer_check.cpp:56:9: note: suggested alternative: 'mergeSort'\n",
      "         merge_sort(empty_array, 0, empty_array.size() - 1);\n",
      "         ^~~~~~~~~~\n",
      "         mergeSort\n",
      "answer_check.cpp:62:9: error: 'merge_sort' was not declared in this scope\n",
      "         merge_sort(single_element, 0, single_element.size() - 1);\n",
      "         ^~~~~~~~~~\n",
      "answer_check.cpp:62:9: note: suggested alternative: 'mergeSort'\n",
      "         merge_sort(single_element, 0, single_element.size() - 1);\n",
      "         ^~~~~~~~~~\n",
      "         mergeSort\n",
      "answer_check.cpp:68:9: error: 'merge_sort' was not declared in this scope\n",
      "         merge_sort(sorted_array, 0, sorted_array.size() - 1);\n",
      "         ^~~~~~~~~~\n",
      "answer_check.cpp:68:9: note: suggested alternative: 'mergeSort'\n",
      "         merge_sort(sorted_array, 0, sorted_array.size() - 1);\n",
      "         ^~~~~~~~~~\n",
      "         mergeSort\n",
      "answer_check.cpp:74:9: error: 'merge_sort' was not declared in this scope\n",
      "         merge_sort(reverse_sorted_array, 0, reverse_sorted_array.size() - 1);\n",
      "         ^~~~~~~~~~\n",
      "answer_check.cpp:74:9: note: suggested alternative: 'mergeSort'\n",
      "         merge_sort(reverse_sorted_array, 0, reverse_sorted_array.size() - 1);\n",
      "         ^~~~~~~~~~\n",
      "         mergeSort\n",
      "answer_check.cpp:81:9: error: 'merge_sort' was not declared in this scope\n",
      "         merge_sort(random_array, 0, random_array.size() - 1);\n",
      "         ^~~~~~~~~~\n",
      "answer_check.cpp:81:9: note: suggested alternative: 'mergeSort'\n",
      "         merge_sort(random_array, 0, random_array.size() - 1);\n",
      "         ^~~~~~~~~~\n",
      "         mergeSort\n",
      "\n",
      "Process completed with return code: 1\n"
     ]
    },
    {
     "name": "stderr",
     "output_type": "stream",
     "text": [
      "  8%|▊         | 4/48 [00:48<08:35, 11.71s/it]"
     ]
    },
    {
     "name": "stdout",
     "output_type": "stream",
     "text": [
      "===============================================================================\n",
      "All tests passed (5 assertions in 1 test case)\n",
      "\n",
      "\n",
      "\n",
      "Process completed with return code: 0\n"
     ]
    },
    {
     "name": "stderr",
     "output_type": "stream",
     "text": [
      " 10%|█         | 5/48 [01:03<09:17, 12.97s/it]"
     ]
    },
    {
     "name": "stdout",
     "output_type": "stream",
     "text": [
      "\n",
      "~~~~~~~~~~~~~~~~~~~~~~~~~~~~~~~~~~~~~~~~~~~~~~~~~~~~~~~~~~~~~~~~~~~~~~~~~~~~~~~\n",
      "answer_check.exe is a Catch v2.13.10 host application.\n",
      "Run with -? for options\n",
      "\n",
      "-------------------------------------------------------------------------------\n",
      "Base64 Encode Tests\n",
      "  Encoding 'hello' should return 'aGVsbG8='\n",
      "-------------------------------------------------------------------------------\n",
      "answer_check.cpp:36\n",
      "...............................................................................\n",
      "\n",
      "answer_check.cpp:38: FAILED:\n",
      "  REQUIRE( base64_encode(input) == \"aGVsbG8=\" )\n",
      "with expansion:\n",
      "  \"aG=sbG=A\" == \"aGVsbG8=\"\n",
      "\n",
      "-------------------------------------------------------------------------------\n",
      "Base64 Encode Tests\n",
      "  Encoding 'world' should return 'd29ybGQ='\n",
      "-------------------------------------------------------------------------------\n",
      "answer_check.cpp:41\n",
      "...............................................................................\n",
      "\n",
      "answer_check.cpp:43: FAILED:\n",
      "  REQUIRE( base64_encode(input) == \"d29ybGQ=\" )\n",
      "with expansion:\n",
      "  \"d2=ybG=A\" == \"d29ybGQ=\"\n",
      "\n",
      "-------------------------------------------------------------------------------\n",
      "Base64 Encode Tests\n",
      "  Encoding 'foobar' should return 'Zm9vYmFy'\n",
      "-------------------------------------------------------------------------------\n",
      "answer_check.cpp:46\n",
      "...............................................................................\n",
      "\n",
      "answer_check.cpp:48: FAILED:\n",
      "  REQUIRE( base64_encode(input) == \"Zm9vYmFy\" )\n",
      "with expansion:\n",
      "  \"Zm=vYm=y\" == \"Zm9vYmFy\"\n",
      "\n",
      "-------------------------------------------------------------------------------\n",
      "Base64 Encode Tests\n",
      "  Encoding 'Catch2' should return 'Q2F0Y2gy'\n",
      "-------------------------------------------------------------------------------\n",
      "answer_check.cpp:51\n",
      "...............................................................................\n",
      "\n",
      "answer_check.cpp:53: FAILED:\n",
      "  REQUIRE( base64_encode(input) == \"Q2F0Y2gy\" )\n",
      "with expansion:\n",
      "  \"Q2=0Y2=y\" == \"Q2F0Y2gy\"\n",
      "\n",
      "-------------------------------------------------------------------------------\n",
      "Base64 Encode Tests\n",
      "  Encoding single byte 'A' should return 'QQ=='\n",
      "-------------------------------------------------------------------------------\n",
      "answer_check.cpp:56\n",
      "...............................................................................\n",
      "\n",
      "answer_check.cpp:58: FAILED:\n",
      "  REQUIRE( base64_encode(input) == \"QQ==\" )\n",
      "with expansion:\n",
      "  \"QQ=A\" == \"QQ==\"\n",
      "\n",
      "===============================================================================\n",
      "test cases: 1 | 1 failed\n",
      "assertions: 6 | 1 passed | 5 failed\n",
      "\n",
      "\n",
      "\n",
      "Process completed with return code: 5\n"
     ]
    },
    {
     "name": "stderr",
     "output_type": "stream",
     "text": [
      " 12%|█▎        | 6/48 [01:18<09:34, 13.68s/it]"
     ]
    },
    {
     "name": "stdout",
     "output_type": "stream",
     "text": [
      "===============================================================================\n",
      "All tests passed (5 assertions in 1 test case)\n",
      "\n",
      "\n",
      "\n",
      "Process completed with return code: 0\n"
     ]
    },
    {
     "name": "stderr",
     "output_type": "stream",
     "text": [
      " 15%|█▍        | 7/48 [01:33<09:38, 14.10s/it]"
     ]
    },
    {
     "name": "stdout",
     "output_type": "stream",
     "text": [
      "\n",
      "~~~~~~~~~~~~~~~~~~~~~~~~~~~~~~~~~~~~~~~~~~~~~~~~~~~~~~~~~~~~~~~~~~~~~~~~~~~~~~~\n",
      "answer_check.exe is a Catch v2.13.10 host application.\n",
      "Run with -? for options\n",
      "\n",
      "-------------------------------------------------------------------------------\n",
      "floatToHex tests\n",
      "  Test with positive float 123.456\n",
      "-------------------------------------------------------------------------------\n",
      "answer_check.cpp:12\n",
      "...............................................................................\n",
      "\n",
      "answer_check.cpp:15: FAILED:\n",
      "  REQUIRE( floatToHex(input) == expected )\n",
      "with expansion:\n",
      "  \"yB\" == \"42f6e979\"\n",
      "\n",
      "-------------------------------------------------------------------------------\n",
      "floatToHex tests\n",
      "  Test with negative float -123.456\n",
      "-------------------------------------------------------------------------------\n",
      "answer_check.cpp:18\n",
      "...............................................................................\n",
      "\n",
      "answer_check.cpp:21: FAILED:\n",
      "  REQUIRE( floatToHex(input) == expected )\n",
      "with expansion:\n",
      "  \"y\" == \"c2f6e979\"\n",
      "\n",
      "-------------------------------------------------------------------------------\n",
      "floatToHex tests\n",
      "  Test with zero\n",
      "-------------------------------------------------------------------------------\n",
      "answer_check.cpp:24\n",
      "...............................................................................\n",
      "\n",
      "answer_check.cpp:27: FAILED:\n",
      "  REQUIRE( floatToHex(input) == expected )\n",
      "with expansion:\n",
      "  \"\u0000\u0000\u0000\u0000\" == \"00000000\"\n",
      "\n",
      "-------------------------------------------------------------------------------\n",
      "floatToHex tests\n",
      "  Test with small positive float 0.0001\n",
      "-------------------------------------------------------------------------------\n",
      "answer_check.cpp:30\n",
      "...............................................................................\n",
      "\n",
      "answer_check.cpp:33: FAILED:\n",
      "  REQUIRE( floatToHex(input) == expected )\n",
      "with expansion:\n",
      "  \"\u00178\" == \"38d1b717\"\n",
      "\n",
      "-------------------------------------------------------------------------------\n",
      "floatToHex tests\n",
      "  Test with large float 1e30\n",
      "-------------------------------------------------------------------------------\n",
      "answer_check.cpp:36\n",
      "...............................................................................\n",
      "\n",
      "answer_check.cpp:39: FAILED:\n",
      "  REQUIRE( floatToHex(input) == expected )\n",
      "with expansion:\n",
      "  \"Iq\" == \"7149f2ca\"\n",
      "\n",
      "===============================================================================\n",
      "test cases: 1 | 1 failed\n",
      "assertions: 5 | 5 failed\n",
      "\n",
      "\n",
      "\n",
      "Process completed with return code: 5\n"
     ]
    },
    {
     "name": "stderr",
     "output_type": "stream",
     "text": [
      " 17%|█▋        | 8/48 [01:48<09:35, 14.39s/it]"
     ]
    },
    {
     "name": "stdout",
     "output_type": "stream",
     "text": [
      "===============================================================================\n",
      "All tests passed (9 assertions in 1 test case)\n",
      "\n",
      "\n",
      "\n",
      "Process completed with return code: 0\n"
     ]
    },
    {
     "name": "stderr",
     "output_type": "stream",
     "text": [
      " 19%|█▉        | 9/48 [02:03<09:27, 14.55s/it]"
     ]
    },
    {
     "name": "stdout",
     "output_type": "stream",
     "text": [
      "===============================================================================\n",
      "All tests passed (8 assertions in 1 test case)\n",
      "\n",
      "\n",
      "\n",
      "Process completed with return code: 0\n"
     ]
    },
    {
     "name": "stderr",
     "output_type": "stream",
     "text": [
      " 21%|██        | 10/48 [02:18<09:17, 14.67s/it]"
     ]
    },
    {
     "name": "stdout",
     "output_type": "stream",
     "text": [
      "===============================================================================\n",
      "All tests passed (5 assertions in 1 test case)\n",
      "\n",
      "\n",
      "\n",
      "Process completed with return code: 0\n"
     ]
    },
    {
     "name": "stderr",
     "output_type": "stream",
     "text": [
      " 23%|██▎       | 11/48 [02:20<06:42, 10.89s/it]"
     ]
    },
    {
     "name": "stdout",
     "output_type": "stream",
     "text": [
      "\n",
      "answer_check.cpp: In function 'void C_A_T_C_H_T_E_S_T_0()':\n",
      "answer_check.cpp:45:21: error: no matching function for call to 'stack_t::stack_t(int)'\n",
      "     stack_t stack(10); // Provide capacity when creating the stack\n",
      "                     ^\n",
      "answer_check.cpp:14:5: note: candidate: 'stack_t::stack_t()'\n",
      "     stack_t() : top(-1) {}\n",
      "     ^~~~~~~\n",
      "answer_check.cpp:14:5: note:   candidate expects 0 arguments, 1 provided\n",
      "answer_check.cpp:6:7: note: candidate: 'constexpr stack_t::stack_t(const stack_t&)'\n",
      " class stack_t {\n",
      "       ^~~~~~~\n",
      "answer_check.cpp:6:7: note:   no known conversion for argument 1 from 'int' to 'const stack_t&'\n",
      "answer_check.cpp:6:7: note: candidate: 'constexpr stack_t::stack_t(stack_t&&)'\n",
      "answer_check.cpp:6:7: note:   no known conversion for argument 1 from 'int' to 'stack_t&&'\n",
      "answer_check.cpp:67:26: error: no matching function for call to 'stack_t::stack_t(int)'\n",
      "     stack_t fullStack(100); // Provide capacity when creating the stack\n",
      "                          ^\n",
      "answer_check.cpp:14:5: note: candidate: 'stack_t::stack_t()'\n",
      "     stack_t() : top(-1) {}\n",
      "     ^~~~~~~\n",
      "answer_check.cpp:14:5: note:   candidate expects 0 arguments, 1 provided\n",
      "answer_check.cpp:6:7: note: candidate: 'constexpr stack_t::stack_t(const stack_t&)'\n",
      " class stack_t {\n",
      "       ^~~~~~~\n",
      "answer_check.cpp:6:7: note:   no known conversion for argument 1 from 'int' to 'const stack_t&'\n",
      "answer_check.cpp:6:7: note: candidate: 'constexpr stack_t::stack_t(stack_t&&)'\n",
      "answer_check.cpp:6:7: note:   no known conversion for argument 1 from 'int' to 'stack_t&&'\n",
      "\n",
      "Process completed with return code: 1\n"
     ]
    },
    {
     "name": "stderr",
     "output_type": "stream",
     "text": [
      " 25%|██▌       | 12/48 [02:36<07:23, 12.31s/it]"
     ]
    },
    {
     "name": "stdout",
     "output_type": "stream",
     "text": [
      "===============================================================================\n",
      "All tests passed (5 assertions in 1 test case)\n",
      "\n",
      "\n",
      "\n",
      "Process completed with return code: 0\n"
     ]
    },
    {
     "name": "stderr",
     "output_type": "stream",
     "text": [
      " 27%|██▋       | 13/48 [02:38<05:25,  9.29s/it]"
     ]
    },
    {
     "name": "stdout",
     "output_type": "stream",
     "text": [
      "\n",
      "answer_check.cpp: In constructor 'PrimeGame::PrimeGame(int)':\n",
      "answer_check.cpp:10:20: error: no match for 'operator[]' (operand types are 'std::__cxx11::list<int>' and 'int')\n",
      "             players[i] = i + 1; // Players are numbered from 1 to n\n",
      "                    ^\n",
      "\n",
      "Process completed with return code: 1\n"
     ]
    },
    {
     "name": "stderr",
     "output_type": "stream",
     "text": [
      " 29%|██▉       | 14/48 [02:53<06:16, 11.06s/it]"
     ]
    },
    {
     "name": "stdout",
     "output_type": "stream",
     "text": [
      "===============================================================================\n",
      "All tests passed (5 assertions in 5 test cases)\n",
      "\n",
      "\n",
      "\n",
      "Process completed with return code: 0\n"
     ]
    },
    {
     "name": "stderr",
     "output_type": "stream",
     "text": [
      " 31%|███▏      | 15/48 [03:08<06:44, 12.25s/it]"
     ]
    },
    {
     "name": "stdout",
     "output_type": "stream",
     "text": [
      "\n",
      "~~~~~~~~~~~~~~~~~~~~~~~~~~~~~~~~~~~~~~~~~~~~~~~~~~~~~~~~~~~~~~~~~~~~~~~~~~~~~~~\n",
      "answer_check.exe is a Catch v2.13.10 host application.\n",
      "Run with -? for options\n",
      "\n",
      "-------------------------------------------------------------------------------\n",
      "Test cases for extractStringFromBraces function\n",
      "  Basic extraction\n",
      "-------------------------------------------------------------------------------\n",
      "answer_check.cpp:16\n",
      "...............................................................................\n",
      "\n",
      "answer_check.cpp:19: FAILED:\n",
      "  REQUIRE( result == \"{data: \\\"value\\\"}\" )\n",
      "with expansion:\n",
      "  \"data: \"value\"\" == \"{data: \"value\"}\"\n",
      "\n",
      "-------------------------------------------------------------------------------\n",
      "Test cases for extractStringFromBraces function\n",
      "  No braces\n",
      "-------------------------------------------------------------------------------\n",
      "answer_check.cpp:22\n",
      "...............................................................................\n",
      "\n",
      "answer_check.cpp:25: FAILED:\n",
      "  REQUIRE( result == \"No opening brace found.\" )\n",
      "with expansion:\n",
      "  \"Error: Missing braces.\"\n",
      "  ==\n",
      "  \"No opening brace found.\"\n",
      "\n",
      "-------------------------------------------------------------------------------\n",
      "Test cases for extractStringFromBraces function\n",
      "  Only opening brace\n",
      "-------------------------------------------------------------------------------\n",
      "answer_check.cpp:28\n",
      "...............................................................................\n",
      "\n",
      "answer_check.cpp:31: FAILED:\n",
      "  REQUIRE( result == \"No closing brace found.\" )\n",
      "with expansion:\n",
      "  \"Error: Missing braces.\"\n",
      "  ==\n",
      "  \"No closing brace found.\"\n",
      "\n",
      "-------------------------------------------------------------------------------\n",
      "Test cases for extractStringFromBraces function\n",
      "  Only closing brace\n",
      "-------------------------------------------------------------------------------\n",
      "answer_check.cpp:34\n",
      "...............................................................................\n",
      "\n",
      "answer_check.cpp:37: FAILED:\n",
      "  REQUIRE( result == \"No opening brace found.\" )\n",
      "with expansion:\n",
      "  \"Error: Missing braces.\"\n",
      "  ==\n",
      "  \"No opening brace found.\"\n",
      "\n",
      "-------------------------------------------------------------------------------\n",
      "Test cases for extractStringFromBraces function\n",
      "  Multiple braces\n",
      "-------------------------------------------------------------------------------\n",
      "answer_check.cpp:39\n",
      "...............................................................................\n",
      "\n",
      "answer_check.cpp:42: FAILED:\n",
      "  REQUIRE( result == \"{first}\" )\n",
      "with expansion:\n",
      "  \"first\" == \"{first}\"\n",
      "\n",
      "-------------------------------------------------------------------------------\n",
      "Test cases for extractStringFromBraces function\n",
      "  Empty braces\n",
      "-------------------------------------------------------------------------------\n",
      "answer_check.cpp:45\n",
      "...............................................................................\n",
      "\n",
      "answer_check.cpp:48: FAILED:\n",
      "  REQUIRE( result == \"{}\" )\n",
      "with expansion:\n",
      "  \"\" == \"{}\"\n",
      "\n",
      "===============================================================================\n",
      "test cases: 1 | 1 failed\n",
      "assertions: 6 | 6 failed\n",
      "\n",
      "\n",
      "\n",
      "Process completed with return code: 6\n"
     ]
    },
    {
     "name": "stderr",
     "output_type": "stream",
     "text": [
      " 33%|███▎      | 16/48 [03:23<06:58, 13.09s/it]"
     ]
    },
    {
     "name": "stdout",
     "output_type": "stream",
     "text": [
      "===============================================================================\n",
      "All tests passed (8 assertions in 5 test cases)\n",
      "\n",
      "\n",
      "\n",
      "Process completed with return code: 0\n"
     ]
    },
    {
     "name": "stderr",
     "output_type": "stream",
     "text": [
      " 35%|███▌      | 17/48 [03:39<07:06, 13.76s/it]"
     ]
    },
    {
     "name": "stdout",
     "output_type": "stream",
     "text": [
      "===============================================================================\n",
      "All tests passed (5 assertions in 1 test case)\n",
      "\n",
      "\n",
      "\n",
      "Process completed with return code: 0\n"
     ]
    },
    {
     "name": "stderr",
     "output_type": "stream",
     "text": [
      " 38%|███▊      | 18/48 [03:54<07:04, 14.17s/it]"
     ]
    },
    {
     "name": "stdout",
     "output_type": "stream",
     "text": [
      "===============================================================================\n",
      "All tests passed (5 assertions in 1 test case)\n",
      "\n",
      "\n",
      "\n",
      "Process completed with return code: 0\n"
     ]
    },
    {
     "name": "stderr",
     "output_type": "stream",
     "text": [
      " 40%|███▉      | 19/48 [04:09<07:00, 14.50s/it]"
     ]
    },
    {
     "name": "stdout",
     "output_type": "stream",
     "text": [
      "===============================================================================\n",
      "All tests passed (7 assertions in 1 test case)\n",
      "\n",
      "\n",
      "\n",
      "Process completed with return code: 0\n"
     ]
    },
    {
     "name": "stderr",
     "output_type": "stream",
     "text": [
      " 42%|████▏     | 20/48 [04:11<05:03, 10.85s/it]"
     ]
    },
    {
     "name": "stdout",
     "output_type": "stream",
     "text": [
      "\n",
      "answer_check.cpp: In function 'double circleIntersectionArea(double, double, double, double, double, double)':\n",
      "answer_check.cpp:8:41: error: 'M_PI' was not declared in this scope\n",
      "     if (d <= std::fabs(r1 - r2)) return M_PI * std::pow(std::min(r1, r2), 2); // One circle inside the other\n",
      "                                         ^~~~\n",
      "answer_check.cpp:8:41: note: suggested alternative: 'CMAPI'\n",
      "     if (d <= std::fabs(r1 - r2)) return M_PI * std::pow(std::min(r1, r2), 2); // One circle inside the other\n",
      "                                         ^~~~\n",
      "                                         CMAPI\n",
      "\n",
      "Process completed with return code: 1\n"
     ]
    },
    {
     "name": "stderr",
     "output_type": "stream",
     "text": [
      " 44%|████▍     | 21/48 [04:14<03:44,  8.30s/it]"
     ]
    },
    {
     "name": "stdout",
     "output_type": "stream",
     "text": [
      "\n",
      "answer_check.cpp: In function 'void C_A_T_C_H_T_E_S_T_0()':\n",
      "answer_check.cpp:23:9: error: 'vector' was not declared in this scope\n",
      "         vector<vector<char>> matrix = {\n",
      "         ^~~~~~\n",
      "answer_check.cpp:23:9: note: suggested alternative:\n",
      "In file included from D:/sdk/mingw64/lib/gcc/x86_64-w64-mingw32/8.1.0/include/c++/vector:64,\n",
      "                 from ./lib/catch.hpp:566,\n",
      "                 from answer_check.cpp:2:\n",
      "D:/sdk/mingw64/lib/gcc/x86_64-w64-mingw32/8.1.0/include/c++/bits/stl_vector.h:339:11: note:   'std::vector'\n",
      "     class vector : protected _Vector_base<_Tp, _Alloc>\n",
      "           ^~~~~~\n",
      "answer_check.cpp:23:23: error: expected primary-expression before 'char'\n",
      "         vector<vector<char>> matrix = {\n",
      "                       ^~~~\n",
      "In file included from answer_check.cpp:2:\n",
      "answer_check.cpp:28:39: error: 'matrix' was not declared in this scope\n",
      "         REQUIRE(minChangesToSymmetric(matrix) == 0);\n",
      "                                       ^~~~~~\n",
      "answer_check.cpp:28:39: note: suggested alternative: 'main'\n",
      "In file included from answer_check.cpp:2:\n",
      "answer_check.cpp:28:39: error: 'matrix' was not declared in this scope\n",
      "         REQUIRE(minChangesToSymmetric(matrix) == 0);\n",
      "                                       ^~~~~~\n",
      "answer_check.cpp:28:39: note: suggested alternative: 'main'\n",
      "answer_check.cpp:32:9: error: 'vector' was not declared in this scope\n",
      "         vector<vector<char>> matrix = {\n",
      "         ^~~~~~\n",
      "answer_check.cpp:32:9: note: suggested alternative:\n",
      "In file included from D:/sdk/mingw64/lib/gcc/x86_64-w64-mingw32/8.1.0/include/c++/vector:64,\n",
      "                 from ./lib/catch.hpp:566,\n",
      "                 from answer_check.cpp:2:\n",
      "D:/sdk/mingw64/lib/gcc/x86_64-w64-mingw32/8.1.0/include/c++/bits/stl_vector.h:339:11: note:   'std::vector'\n",
      "     class vector : protected _Vector_base<_Tp, _Alloc>\n",
      "           ^~~~~~\n",
      "answer_check.cpp:32:23: error: expected primary-expression before 'char'\n",
      "         vector<vector<char>> matrix = {\n",
      "                       ^~~~\n",
      "In file included from answer_check.cpp:2:\n",
      "answer_check.cpp:37:39: error: 'matrix' was not declared in this scope\n",
      "         REQUIRE(minChangesToSymmetric(matrix) == 2);\n",
      "                                       ^~~~~~\n",
      "answer_check.cpp:37:39: note: suggested alternative: 'main'\n",
      "In file included from answer_check.cpp:2:\n",
      "answer_check.cpp:37:39: error: 'matrix' was not declared in this scope\n",
      "         REQUIRE(minChangesToSymmetric(matrix) == 2);\n",
      "                                       ^~~~~~\n",
      "answer_check.cpp:37:39: note: suggested alternative: 'main'\n",
      "answer_check.cpp:41:9: error: 'vector' was not declared in this scope\n",
      "         vector<vector<char>> matrix = {\n",
      "         ^~~~~~\n",
      "answer_check.cpp:41:9: note: suggested alternative:\n",
      "In file included from D:/sdk/mingw64/lib/gcc/x86_64-w64-mingw32/8.1.0/include/c++/vector:64,\n",
      "                 from ./lib/catch.hpp:566,\n",
      "                 from answer_check.cpp:2:\n",
      "D:/sdk/mingw64/lib/gcc/x86_64-w64-mingw32/8.1.0/include/c++/bits/stl_vector.h:339:11: note:   'std::vector'\n",
      "     class vector : protected _Vector_base<_Tp, _Alloc>\n",
      "           ^~~~~~\n",
      "answer_check.cpp:41:23: error: expected primary-expression before 'char'\n",
      "         vector<vector<char>> matrix = {\n",
      "                       ^~~~\n",
      "In file included from answer_check.cpp:2:\n",
      "answer_check.cpp:46:39: error: 'matrix' was not declared in this scope\n",
      "         REQUIRE(minChangesToSymmetric(matrix) == 3);\n",
      "                                       ^~~~~~\n",
      "answer_check.cpp:46:39: note: suggested alternative: 'main'\n",
      "In file included from answer_check.cpp:2:\n",
      "answer_check.cpp:46:39: error: 'matrix' was not declared in this scope\n",
      "         REQUIRE(minChangesToSymmetric(matrix) == 3);\n",
      "                                       ^~~~~~\n",
      "answer_check.cpp:46:39: note: suggested alternative: 'main'\n",
      "answer_check.cpp:50:9: error: 'vector' was not declared in this scope\n",
      "         vector<vector<char>> matrix = {\n",
      "         ^~~~~~\n",
      "answer_check.cpp:50:9: note: suggested alternative:\n",
      "In file included from D:/sdk/mingw64/lib/gcc/x86_64-w64-mingw32/8.1.0/include/c++/vector:64,\n",
      "                 from ./lib/catch.hpp:566,\n",
      "                 from answer_check.cpp:2:\n",
      "D:/sdk/mingw64/lib/gcc/x86_64-w64-mingw32/8.1.0/include/c++/bits/stl_vector.h:339:11: note:   'std::vector'\n",
      "     class vector : protected _Vector_base<_Tp, _Alloc>\n",
      "           ^~~~~~\n",
      "answer_check.cpp:50:23: error: expected primary-expression before 'char'\n",
      "         vector<vector<char>> matrix = {\n",
      "                       ^~~~\n",
      "In file included from answer_check.cpp:2:\n",
      "answer_check.cpp:56:39: error: 'matrix' was not declared in this scope\n",
      "         REQUIRE(minChangesToSymmetric(matrix) == 0);\n",
      "                                       ^~~~~~\n",
      "answer_check.cpp:56:39: note: suggested alternative: 'main'\n",
      "In file included from answer_check.cpp:2:\n",
      "answer_check.cpp:56:39: error: 'matrix' was not declared in this scope\n",
      "         REQUIRE(minChangesToSymmetric(matrix) == 0);\n",
      "                                       ^~~~~~\n",
      "answer_check.cpp:56:39: note: suggested alternative: 'main'\n",
      "answer_check.cpp:60:9: error: 'vector' was not declared in this scope\n",
      "         vector<vector<char>> matrix = {\n",
      "         ^~~~~~\n",
      "answer_check.cpp:60:9: note: suggested alternative:\n",
      "In file included from D:/sdk/mingw64/lib/gcc/x86_64-w64-mingw32/8.1.0/include/c++/vector:64,\n",
      "                 from ./lib/catch.hpp:566,\n",
      "                 from answer_check.cpp:2:\n",
      "D:/sdk/mingw64/lib/gcc/x86_64-w64-mingw32/8.1.0/include/c++/bits/stl_vector.h:339:11: note:   'std::vector'\n",
      "     class vector : protected _Vector_base<_Tp, _Alloc>\n",
      "           ^~~~~~\n",
      "answer_check.cpp:60:23: error: expected primary-expression before 'char'\n",
      "         vector<vector<char>> matrix = {\n",
      "                       ^~~~\n",
      "In file included from answer_check.cpp:2:\n",
      "answer_check.cpp:66:39: error: 'matrix' was not declared in this scope\n",
      "         REQUIRE(minChangesToSymmetric(matrix) == 4);\n",
      "                                       ^~~~~~\n",
      "answer_check.cpp:66:39: note: suggested alternative: 'main'\n",
      "In file included from answer_check.cpp:2:\n",
      "answer_check.cpp:66:39: error: 'matrix' was not declared in this scope\n",
      "         REQUIRE(minChangesToSymmetric(matrix) == 4);\n",
      "                                       ^~~~~~\n",
      "answer_check.cpp:66:39: note: suggested alternative: 'main'\n",
      "\n",
      "Process completed with return code: 1\n"
     ]
    },
    {
     "name": "stderr",
     "output_type": "stream",
     "text": [
      " 46%|████▌     | 22/48 [04:29<04:32, 10.47s/it]"
     ]
    },
    {
     "name": "stdout",
     "output_type": "stream",
     "text": [
      "===============================================================================\n",
      "All tests passed (16 assertions in 5 test cases)\n",
      "\n",
      "\n",
      "\n",
      "Process completed with return code: 0\n"
     ]
    },
    {
     "name": "stderr",
     "output_type": "stream",
     "text": [
      " 48%|████▊     | 23/48 [04:44<04:56, 11.84s/it]"
     ]
    },
    {
     "name": "stdout",
     "output_type": "stream",
     "text": [
      "30 20 10 \n",
      "1 2 3 \n",
      "15 5 \n",
      "5 \n",
      "\n",
      "\n",
      "===============================================================================\n",
      "All tests passed (19 assertions in 1 test case)\n",
      "\n",
      "\n",
      "\n",
      "Process completed with return code: 0\n"
     ]
    },
    {
     "name": "stderr",
     "output_type": "stream",
     "text": [
      " 50%|█████     | 24/48 [04:59<05:06, 12.79s/it]"
     ]
    },
    {
     "name": "stdout",
     "output_type": "stream",
     "text": [
      "===============================================================================\n",
      "All tests passed (5 assertions in 1 test case)\n",
      "\n",
      "\n",
      "\n",
      "Process completed with return code: 0\n"
     ]
    },
    {
     "name": "stderr",
     "output_type": "stream",
     "text": [
      " 52%|█████▏    | 25/48 [05:14<05:09, 13.46s/it]"
     ]
    },
    {
     "name": "stdout",
     "output_type": "stream",
     "text": [
      "===============================================================================\n",
      "All tests passed (5 assertions in 1 test case)\n",
      "\n",
      "\n",
      "\n",
      "Process completed with return code: 0\n"
     ]
    },
    {
     "name": "stderr",
     "output_type": "stream",
     "text": [
      " 54%|█████▍    | 26/48 [05:30<05:09, 14.07s/it]"
     ]
    },
    {
     "name": "stdout",
     "output_type": "stream",
     "text": [
      "===============================================================================\n",
      "All tests passed (5 assertions in 1 test case)\n",
      "\n",
      "\n",
      "\n",
      "Process completed with return code: 0\n"
     ]
    },
    {
     "name": "stderr",
     "output_type": "stream",
     "text": [
      " 56%|█████▋    | 27/48 [05:46<05:06, 14.60s/it]"
     ]
    },
    {
     "name": "stdout",
     "output_type": "stream",
     "text": [
      "===============================================================================\n",
      "All tests passed (5 assertions in 1 test case)\n",
      "\n",
      "\n",
      "\n",
      "Process completed with return code: 0\n"
     ]
    },
    {
     "name": "stderr",
     "output_type": "stream",
     "text": [
      " 58%|█████▊    | 28/48 [06:02<05:01, 15.07s/it]"
     ]
    },
    {
     "name": "stdout",
     "output_type": "stream",
     "text": [
      "===============================================================================\n",
      "All tests passed (7 assertions in 1 test case)\n",
      "\n",
      "\n",
      "\n",
      "Process completed with return code: 0\n"
     ]
    },
    {
     "name": "stderr",
     "output_type": "stream",
     "text": [
      " 60%|██████    | 29/48 [06:18<04:50, 15.27s/it]"
     ]
    },
    {
     "name": "stdout",
     "output_type": "stream",
     "text": [
      "===============================================================================\n",
      "All tests passed (4 assertions in 1 test case)\n",
      "\n",
      "\n",
      "\n",
      "Process completed with return code: 0\n"
     ]
    },
    {
     "name": "stderr",
     "output_type": "stream",
     "text": [
      " 62%|██████▎   | 30/48 [06:20<03:25, 11.40s/it]"
     ]
    },
    {
     "name": "stdout",
     "output_type": "stream",
     "text": [
      "\n",
      "In file included from answer_check.cpp:2:\n",
      "answer_check.cpp: In function 'void C_A_T_C_H_T_E_S_T_0()':\n",
      "answer_check.cpp:30:73: error: 'M_PI' was not declared in this scope\n",
      "     REQUIRE(trapezoidal_rule([](double x) { return std::sin(x); }, 0.0, M_PI, 1000) == Approx(2.0).epsilon(1e-6));\n",
      "                                                                         ^~~~\n",
      "answer_check.cpp:30:73: note: suggested alternative: 'CMAPI'\n",
      "In file included from answer_check.cpp:2:\n",
      "answer_check.cpp:30:73: error: 'M_PI' was not declared in this scope\n",
      "     REQUIRE(trapezoidal_rule([](double x) { return std::sin(x); }, 0.0, M_PI, 1000) == Approx(2.0).epsilon(1e-6));\n",
      "                                                                         ^~~~\n",
      "answer_check.cpp:30:73: note: suggested alternative: 'CMAPI'\n",
      "\n",
      "Process completed with return code: 1\n"
     ]
    },
    {
     "name": "stderr",
     "output_type": "stream",
     "text": [
      " 65%|██████▍   | 31/48 [06:35<03:33, 12.54s/it]"
     ]
    },
    {
     "name": "stdout",
     "output_type": "stream",
     "text": [
      "===============================================================================\n",
      "All tests passed (5 assertions in 1 test case)\n",
      "\n",
      "\n",
      "\n",
      "Process completed with return code: 0\n"
     ]
    },
    {
     "name": "stderr",
     "output_type": "stream",
     "text": [
      " 67%|██████▋   | 32/48 [06:38<02:31,  9.49s/it]"
     ]
    },
    {
     "name": "stdout",
     "output_type": "stream",
     "text": [
      "\n",
      "answer_check.cpp:5:2: error: stray '#' in program\n",
      " }#include <stdexcept> // For std::invalid_argument\n",
      "  ^\n",
      "answer_check.cpp:5:3: error: 'include' does not name a type\n",
      " }#include <stdexcept> // For std::invalid_argument\n",
      "   ^~~~~~~\n",
      "answer_check.cpp: In function 'void C_A_T_C_H_T_E_S_T_0()':\n",
      "answer_check.cpp:33:25: error: 'simpsons_rule' was not declared in this scope\n",
      "         double result = simpsons_rule(0.0, 1.0, 10);\n",
      "                         ^~~~~~~~~~~~~\n",
      "answer_check.cpp:39:25: error: 'simpsons_rule' was not declared in this scope\n",
      "         double result = simpsons_rule(0.0, 2.0, 10);\n",
      "                         ^~~~~~~~~~~~~\n",
      "answer_check.cpp:45:25: error: 'simpsons_rule' was not declared in this scope\n",
      "         double result = simpsons_rule(-1.0, 0.0, 10);\n",
      "                         ^~~~~~~~~~~~~\n",
      "answer_check.cpp:51:25: error: 'simpsons_rule' was not declared in this scope\n",
      "         double result = simpsons_rule(0.0, 10.0, 20);\n",
      "                         ^~~~~~~~~~~~~\n",
      "\n",
      "Process completed with return code: 1\n"
     ]
    },
    {
     "name": "stderr",
     "output_type": "stream",
     "text": [
      " 69%|██████▉   | 33/48 [06:53<02:47, 11.20s/it]"
     ]
    },
    {
     "name": "stdout",
     "output_type": "stream",
     "text": [
      "===============================================================================\n",
      "All tests passed (5 assertions in 1 test case)\n",
      "\n",
      "\n",
      "\n",
      "Process completed with return code: 0\n"
     ]
    },
    {
     "name": "stderr",
     "output_type": "stream",
     "text": [
      " 71%|███████   | 34/48 [07:08<02:53, 12.40s/it]"
     ]
    },
    {
     "name": "stdout",
     "output_type": "stream",
     "text": [
      "\n",
      "~~~~~~~~~~~~~~~~~~~~~~~~~~~~~~~~~~~~~~~~~~~~~~~~~~~~~~~~~~~~~~~~~~~~~~~~~~~~~~~\n",
      "answer_check.exe is a Catch v2.13.10 host application.\n",
      "Run with -? for options\n",
      "\n",
      "-------------------------------------------------------------------------------\n",
      "printBoard outputs correct format\n",
      "  Test case 1\n",
      "-------------------------------------------------------------------------------\n",
      "answer_check.cpp:52\n",
      "...............................................................................\n",
      "\n",
      "answer_check.cpp:60: FAILED:\n",
      "  REQUIRE( output.str() == expectedOutput )\n",
      "with expansion:\n",
      "  \"-------------\n",
      "  | X | O | X |\n",
      "  -------------\n",
      "  |   | X | O |\n",
      "  -------------\n",
      "  | O |   |   |\n",
      "  -------------\n",
      "  \"\n",
      "  ==\n",
      "  \"-------------\n",
      "  | X | O | X | \n",
      "  -------------\n",
      "  |   | X | O | \n",
      "  -------------\n",
      "  | O |   |   | \n",
      "  -------------\n",
      "  \"\n",
      "\n",
      "-------------------------------------------------------------------------------\n",
      "printBoard outputs correct format\n",
      "  Test case 2\n",
      "-------------------------------------------------------------------------------\n",
      "answer_check.cpp:64\n",
      "...............................................................................\n",
      "\n",
      "answer_check.cpp:72: FAILED:\n",
      "  REQUIRE( output.str() == expectedOutput )\n",
      "with expansion:\n",
      "  \"-------------\n",
      "  |   |   |   |\n",
      "  -------------\n",
      "  |   |   |   |\n",
      "  -------------\n",
      "  |   |   |   |\n",
      "  -------------\n",
      "  \"\n",
      "  ==\n",
      "  \"-------------\n",
      "  |   |   |   | \n",
      "  -------------\n",
      "  |   |   |   | \n",
      "  -------------\n",
      "  |   |   |   | \n",
      "  -------------\n",
      "  \"\n",
      "\n",
      "-------------------------------------------------------------------------------\n",
      "printBoard outputs correct format\n",
      "  Test case 3\n",
      "-------------------------------------------------------------------------------\n",
      "answer_check.cpp:76\n",
      "...............................................................................\n",
      "\n",
      "answer_check.cpp:84: FAILED:\n",
      "  REQUIRE( output.str() == expectedOutput )\n",
      "with expansion:\n",
      "  \"-------------\n",
      "  | X | X | X |\n",
      "  -------------\n",
      "  | O | O |   |\n",
      "  -------------\n",
      "  |   |   |   |\n",
      "  -------------\n",
      "  \"\n",
      "  ==\n",
      "  \"-------------\n",
      "  | X | X | X | \n",
      "  -------------\n",
      "  | O | O |   | \n",
      "  -------------\n",
      "  |   |   |   | \n",
      "  -------------\n",
      "  \"\n",
      "\n",
      "-------------------------------------------------------------------------------\n",
      "printBoard outputs correct format\n",
      "  Test case 4\n",
      "-------------------------------------------------------------------------------\n",
      "answer_check.cpp:88\n",
      "...............................................................................\n",
      "\n",
      "answer_check.cpp:96: FAILED:\n",
      "  REQUIRE( output.str() == expectedOutput )\n",
      "with expansion:\n",
      "  \"-------------\n",
      "  | O | O | O |\n",
      "  -------------\n",
      "  | X | X | X |\n",
      "  -------------\n",
      "  | X | O |   |\n",
      "  -------------\n",
      "  \"\n",
      "  ==\n",
      "  \"-------------\n",
      "  | O | O | O | \n",
      "  -------------\n",
      "  | X | X | X | \n",
      "  -------------\n",
      "  | X | O |   | \n",
      "  -------------\n",
      "  \"\n",
      "\n",
      "-------------------------------------------------------------------------------\n",
      "printBoard outputs correct format\n",
      "  Test case 5\n",
      "-------------------------------------------------------------------------------\n",
      "answer_check.cpp:100\n",
      "...............................................................................\n",
      "\n",
      "answer_check.cpp:108: FAILED:\n",
      "  REQUIRE( output.str() == expectedOutput )\n",
      "with expansion:\n",
      "  \"-------------\n",
      "  | X |   |   |\n",
      "  -------------\n",
      "  |   | X |   |\n",
      "  -------------\n",
      "  |   |   | X |\n",
      "  -------------\n",
      "  \"\n",
      "  ==\n",
      "  \"-------------\n",
      "  | X |   |   | \n",
      "  -------------\n",
      "  |   | X |   | \n",
      "  -------------\n",
      "  |   |   | X | \n",
      "  -------------\n",
      "  \"\n",
      "\n",
      "-------------------------------------------------------------------------------\n",
      "printBoard outputs correct format\n",
      "  Test case 6\n",
      "-------------------------------------------------------------------------------\n",
      "answer_check.cpp:112\n",
      "...............................................................................\n",
      "\n",
      "answer_check.cpp:120: FAILED:\n",
      "  REQUIRE( output.str() == expectedOutput )\n",
      "with expansion:\n",
      "  \"-------------\n",
      "  |   | O |   |\n",
      "  -------------\n",
      "  | O |   | O |\n",
      "  -------------\n",
      "  |   | O |   |\n",
      "  -------------\n",
      "  \"\n",
      "  ==\n",
      "  \"-------------\n",
      "  |   | O |   | \n",
      "  -------------\n",
      "  | O |   | O | \n",
      "  -------------\n",
      "  |   | O |   | \n",
      "  -------------\n",
      "  \"\n",
      "\n",
      "===============================================================================\n",
      "test cases: 1 | 1 failed\n",
      "assertions: 6 | 6 failed\n",
      "\n",
      "\n",
      "\n",
      "Process completed with return code: 6\n"
     ]
    },
    {
     "name": "stderr",
     "output_type": "stream",
     "text": [
      " 73%|███████▎  | 35/48 [07:23<02:52, 13.24s/it]"
     ]
    },
    {
     "name": "stdout",
     "output_type": "stream",
     "text": [
      "===============================================================================\n",
      "All tests passed (6 assertions in 6 test cases)\n",
      "\n",
      "\n",
      "\n",
      "Process completed with return code: 0\n"
     ]
    },
    {
     "name": "stderr",
     "output_type": "stream",
     "text": [
      " 75%|███████▌  | 36/48 [07:39<02:47, 13.92s/it]"
     ]
    },
    {
     "name": "stdout",
     "output_type": "stream",
     "text": [
      "\n",
      "~~~~~~~~~~~~~~~~~~~~~~~~~~~~~~~~~~~~~~~~~~~~~~~~~~~~~~~~~~~~~~~~~~~~~~~~~~~~~~~\n",
      "answer_check.exe is a Catch v2.13.10 host application.\n",
      "Run with -? for options\n",
      "\n",
      "-------------------------------------------------------------------------------\n",
      "Valid POST request line\n",
      "-------------------------------------------------------------------------------\n",
      "answer_check.cpp:17\n",
      "...............................................................................\n",
      "\n",
      "answer_check.cpp:21: FAILED:\n",
      "  REQUIRE( parsed_info[\"method\"] == \"POST\" )\n",
      "with expansion:\n",
      "  \"\" == \"POST\"\n",
      "\n",
      "-------------------------------------------------------------------------------\n",
      "PUT request line\n",
      "-------------------------------------------------------------------------------\n",
      "answer_check.cpp:26\n",
      "...............................................................................\n",
      "\n",
      "answer_check.cpp:30: FAILED:\n",
      "  REQUIRE( parsed_info[\"method\"] == \"PUT\" )\n",
      "with expansion:\n",
      "  \"\" == \"PUT\"\n",
      "\n",
      "-------------------------------------------------------------------------------\n",
      "DELETE request line\n",
      "-------------------------------------------------------------------------------\n",
      "answer_check.cpp:35\n",
      "...............................................................................\n",
      "\n",
      "answer_check.cpp:39: FAILED:\n",
      "  REQUIRE( parsed_info[\"method\"] == \"DELETE\" )\n",
      "with expansion:\n",
      "  \"\" == \"DELETE\"\n",
      "\n",
      "===============================================================================\n",
      "test cases: 4 | 1 passed | 3 failed\n",
      "assertions: 4 | 1 passed | 3 failed\n",
      "\n",
      "\n",
      "\n",
      "Process completed with return code: 3\n"
     ]
    },
    {
     "name": "stderr",
     "output_type": "stream",
     "text": [
      " 77%|███████▋  | 37/48 [07:55<02:39, 14.53s/it]"
     ]
    },
    {
     "name": "stdout",
     "output_type": "stream",
     "text": [
      "===============================================================================\n",
      "All tests passed (36 assertions in 1 test case)\n",
      "\n",
      "\n",
      "\n",
      "Process completed with return code: 0\n"
     ]
    },
    {
     "name": "stderr",
     "output_type": "stream",
     "text": [
      " 79%|███████▉  | 38/48 [08:10<02:28, 14.84s/it]"
     ]
    },
    {
     "name": "stdout",
     "output_type": "stream",
     "text": [
      "===============================================================================\n",
      "All tests passed (11 assertions in 1 test case)\n",
      "\n",
      "\n",
      "\n",
      "Process completed with return code: 0\n"
     ]
    },
    {
     "name": "stderr",
     "output_type": "stream",
     "text": [
      " 81%|████████▏ | 39/48 [08:26<02:15, 15.10s/it]"
     ]
    },
    {
     "name": "stdout",
     "output_type": "stream",
     "text": [
      "===============================================================================\n",
      "All tests passed (18 assertions in 1 test case)\n",
      "\n",
      "\n",
      "\n",
      "Process completed with return code: 0\n"
     ]
    },
    {
     "name": "stderr",
     "output_type": "stream",
     "text": [
      " 83%|████████▎ | 40/48 [08:41<02:01, 15.17s/it]"
     ]
    },
    {
     "name": "stdout",
     "output_type": "stream",
     "text": [
      "===============================================================================\n",
      "All tests passed (13 assertions in 1 test case)\n",
      "\n",
      "\n",
      "\n",
      "Process completed with return code: 0\n"
     ]
    },
    {
     "name": "stderr",
     "output_type": "stream",
     "text": [
      " 85%|████████▌ | 41/48 [08:57<01:46, 15.25s/it]"
     ]
    },
    {
     "name": "stdout",
     "output_type": "stream",
     "text": [
      "===============================================================================\n",
      "All tests passed (18 assertions in 1 test case)\n",
      "\n",
      "\n",
      "\n",
      "Process completed with return code: 0\n"
     ]
    },
    {
     "name": "stderr",
     "output_type": "stream",
     "text": [
      " 88%|████████▊ | 42/48 [08:59<01:08, 11.40s/it]"
     ]
    },
    {
     "name": "stdout",
     "output_type": "stream",
     "text": [
      "\n",
      "answer_check.cpp:9:16: error: non-member function 'bool isEmpty()' cannot have cv-qualifier\n",
      " bool isEmpty() const {\n",
      "                ^~~~~\n",
      "answer_check.cpp: In function 'bool isEmpty()':\n",
      "answer_check.cpp:10:12: error: 'head' was not declared in this scope\n",
      "     return head == nullptr;\n",
      "            ^~~~\n",
      "answer_check.cpp:10:12: note: suggested alternative: '_hread'\n",
      "     return head == nullptr;\n",
      "            ^~~~\n",
      "            _hread\n",
      "answer_check.cpp: In function 'void enqueue(int)':\n",
      "answer_check.cpp:17:9: error: 'head' was not declared in this scope\n",
      "         head = tail = newNode;\n",
      "         ^~~~\n",
      "answer_check.cpp:17:9: note: suggested alternative: '_hread'\n",
      "         head = tail = newNode;\n",
      "         ^~~~\n",
      "         _hread\n",
      "answer_check.cpp:17:16: error: 'tail' was not declared in this scope\n",
      "         head = tail = newNode;\n",
      "                ^~~~\n",
      "answer_check.cpp:17:16: note: suggested alternative: 'tanl'\n",
      "         head = tail = newNode;\n",
      "                ^~~~\n",
      "                tanl\n",
      "answer_check.cpp:19:9: error: 'tail' was not declared in this scope\n",
      "         tail->next = newNode;\n",
      "         ^~~~\n",
      "answer_check.cpp:19:9: note: suggested alternative: 'tanl'\n",
      "         tail->next = newNode;\n",
      "         ^~~~\n",
      "         tanl\n",
      "answer_check.cpp: In function 'int dequeue()':\n",
      "answer_check.cpp:29:22: error: 'head' was not declared in this scope\n",
      "     int frontValue = head->data;\n",
      "                      ^~~~\n",
      "answer_check.cpp:29:22: note: suggested alternative: '_hread'\n",
      "     int frontValue = head->data;\n",
      "                      ^~~~\n",
      "                      _hread\n",
      "answer_check.cpp:34:9: error: 'tail' was not declared in this scope\n",
      "         tail = nullptr;\n",
      "         ^~~~\n",
      "answer_check.cpp:34:9: note: suggested alternative: 'tanl'\n",
      "         tail = nullptr;\n",
      "         ^~~~\n",
      "         tanl\n",
      "answer_check.cpp: At global scope:\n",
      "answer_check.cpp:40:13: error: non-member function 'int front()' cannot have cv-qualifier\n",
      " int front() const {\n",
      "             ^~~~~\n",
      "answer_check.cpp: In function 'int front()':\n",
      "answer_check.cpp:44:12: error: 'head' was not declared in this scope\n",
      "     return head->data;\n",
      "            ^~~~\n",
      "answer_check.cpp:44:12: note: suggested alternative: '_hread'\n",
      "     return head->data;\n",
      "            ^~~~\n",
      "            _hread\n",
      "answer_check.cpp: In function 'void C_A_T_C_H_T_E_S_T_0()':\n",
      "answer_check.cpp:47:5: error: 'Queue' was not declared in this scope\n",
      "     Queue queue;\n",
      "     ^~~~~\n",
      "answer_check.cpp:47:5: note: suggested alternative: 'dequeue'\n",
      "     Queue queue;\n",
      "     ^~~~~\n",
      "     dequeue\n",
      "In file included from answer_check.cpp:2:\n",
      "answer_check.cpp:50:17: error: 'queue' was not declared in this scope\n",
      "         REQUIRE(queue.isEmpty() == true);\n",
      "                 ^~~~~\n",
      "answer_check.cpp:50:17: note: suggested alternative: 'dequeue'\n",
      "In file included from answer_check.cpp:2:\n",
      "answer_check.cpp:50:17: error: 'queue' was not declared in this scope\n",
      "         REQUIRE(queue.isEmpty() == true);\n",
      "                 ^~~~~\n",
      "answer_check.cpp:50:17: note: suggested alternative: 'dequeue'\n",
      "answer_check.cpp:54:9: error: 'queue' was not declared in this scope\n",
      "         queue.enqueue(10);\n",
      "         ^~~~~\n",
      "answer_check.cpp:54:9: note: suggested alternative: 'dequeue'\n",
      "         queue.enqueue(10);\n",
      "         ^~~~~\n",
      "         dequeue\n",
      "answer_check.cpp:63:9: error: 'queue' was not declared in this scope\n",
      "         queue.enqueue(10);\n",
      "         ^~~~~\n",
      "answer_check.cpp:63:9: note: suggested alternative: 'dequeue'\n",
      "         queue.enqueue(10);\n",
      "         ^~~~~\n",
      "         dequeue\n",
      "answer_check.cpp:73:21: error: 'queue' was not declared in this scope\n",
      "         int value = queue.dequeue();\n",
      "                     ^~~~~\n",
      "answer_check.cpp:73:21: note: suggested alternative: 'dequeue'\n",
      "         int value = queue.dequeue();\n",
      "                     ^~~~~\n",
      "                     dequeue\n",
      "answer_check.cpp:78:26: error: 'queue' was not declared in this scope\n",
      "         int frontValue = queue.front();\n",
      "                          ^~~~~\n",
      "answer_check.cpp:78:26: note: suggested alternative: 'dequeue'\n",
      "         int frontValue = queue.front();\n",
      "                          ^~~~~\n",
      "                          dequeue\n",
      "answer_check.cpp:83:9: error: 'queue' was not declared in this scope\n",
      "         queue.enqueue(10);\n",
      "         ^~~~~\n",
      "answer_check.cpp:83:9: note: suggested alternative: 'dequeue'\n",
      "         queue.enqueue(10);\n",
      "         ^~~~~\n",
      "         dequeue\n",
      "\n",
      "Process completed with return code: 1\n"
     ]
    },
    {
     "name": "stderr",
     "output_type": "stream",
     "text": [
      " 90%|████████▉ | 43/48 [09:15<01:03, 12.66s/it]"
     ]
    },
    {
     "name": "stdout",
     "output_type": "stream",
     "text": [
      "===============================================================================\n",
      "All tests passed (12 assertions in 1 test case)\n",
      "\n",
      "\n",
      "\n",
      "Process completed with return code: 0\n"
     ]
    },
    {
     "name": "stderr",
     "output_type": "stream",
     "text": [
      " 92%|█████████▏| 44/48 [09:30<00:54, 13.51s/it]"
     ]
    },
    {
     "name": "stdout",
     "output_type": "stream",
     "text": [
      "===============================================================================\n",
      "All tests passed (6 assertions in 1 test case)\n",
      "\n",
      "\n",
      "\n",
      "Process completed with return code: 0\n"
     ]
    },
    {
     "name": "stderr",
     "output_type": "stream",
     "text": [
      " 94%|█████████▍| 45/48 [09:45<00:42, 14.05s/it]"
     ]
    },
    {
     "name": "stdout",
     "output_type": "stream",
     "text": [
      "===============================================================================\n",
      "All tests passed (12 assertions in 1 test case)\n",
      "\n",
      "\n",
      "\n",
      "Process completed with return code: 0\n"
     ]
    },
    {
     "name": "stderr",
     "output_type": "stream",
     "text": [
      " 96%|█████████▌| 46/48 [10:01<00:28, 14.42s/it]"
     ]
    },
    {
     "name": "stdout",
     "output_type": "stream",
     "text": [
      "===============================================================================\n",
      "All tests passed (10 assertions in 1 test case)\n",
      "\n",
      "\n",
      "\n",
      "Process completed with return code: 0\n"
     ]
    },
    {
     "name": "stderr",
     "output_type": "stream",
     "text": [
      " 98%|█████████▊| 47/48 [10:16<00:14, 14.72s/it]"
     ]
    },
    {
     "name": "stdout",
     "output_type": "stream",
     "text": [
      "===============================================================================\n",
      "All tests passed (7 assertions in 2 test cases)\n",
      "\n",
      "\n",
      "\n",
      "Process completed with return code: 0\n"
     ]
    },
    {
     "name": "stderr",
     "output_type": "stream",
     "text": [
      "100%|██████████| 48/48 [10:32<00:00, 13.17s/it]"
     ]
    },
    {
     "name": "stdout",
     "output_type": "stream",
     "text": [
      "===============================================================================\n",
      "All tests passed (6 assertions in 1 test case)\n",
      "\n",
      "\n",
      "\n",
      "Process completed with return code: 0\n"
     ]
    },
    {
     "name": "stderr",
     "output_type": "stream",
     "text": [
      "\n"
     ]
    }
   ],
   "source": [
    "from executor.java_executor import JavaExecutor\n",
    "from executor.ccpp_executor import CCPPExecutor\n",
    "from executor.typescript_executor import TypeScriptExecutor\n",
    "from executor.javascript_executor import JavaScriptExecutor\n",
    "from executor.python_executor import PythonExecutor\n",
    "\n",
    "\n",
    "def get_parser(language, model):\n",
    "    if language == \"python\":\n",
    "        return PythonExecutor(model)\n",
    "    elif language == \"javascript\":\n",
    "        return JavaScriptExecutor(model)\n",
    "    elif language == \"typescript\":\n",
    "        return TypeScriptExecutor(model)\n",
    "    elif language == \"c&cpp\":\n",
    "        return CCPPExecutor(model)\n",
    "    elif language == \"java\":\n",
    "        return JavaExecutor(model)\n",
    "\n",
    "\n",
    "from pathlib import Path\n",
    "\n",
    "for task in TASK_LIST:\n",
    "    answer_path = f\"{ANSWER_PATH}\\\\{task['model']}\"\n",
    "    Path(f\"./model_answer_result/{task['model']}\").mkdir(exist_ok=True)\n",
    "    for language in task[\"language\"]:\n",
    "        try:\n",
    "            print(language)\n",
    "            parser = get_parser(language, task['model'])\n",
    "            file_path = f\"{ANSWER_PATH}\\\\{task['model']}_answer\\\\{language}_answer.json\"\n",
    "            parser.batch_run(file_path)\n",
    "        except Exception as e:\n",
    "            print(e)\n",
    "    delete_non_ipynb_files()"
   ],
   "metadata": {
    "collapsed": false
   }
  },
  {
   "cell_type": "markdown",
   "source": [
    "# LLM回答数据统计"
   ],
   "metadata": {
    "collapsed": false
   }
  },
  {
   "cell_type": "code",
   "execution_count": null,
   "outputs": [],
   "source": [
    "import pandas as pd"
   ],
   "metadata": {
    "collapsed": false
   }
  },
  {
   "cell_type": "code",
   "execution_count": null,
   "outputs": [],
   "source": [
    "TASK_LIST = [\n",
    "    {\n",
    "        \"model\": \"chatglm-6b\",\n",
    "        \"language\": [\"python\", \"javascript\", \"typescript\", \"c&cpp\"]\n",
    "    },\n",
    "    {\n",
    "        \"model\": \"codegeex4-all-9b\",\n",
    "        \"language\": [\"python\", \"javascript\", \"typescript\", \"c&cpp\"]\n",
    "    },\n",
    "    {\n",
    "        \"model\": \"codegen25-7b-instruct_P\",\n",
    "        \"language\": [\"python\",\"javascript\",\"typescript\",\"c&cpp\"]\n",
    "    },\n",
    "    {\n",
    "        \"model\": \"CodeLlama-7b-hf\",\n",
    "        \"language\": [\"python\", \"javascript\", \"typescript\", \"c&cpp\"]\n",
    "    },\n",
    "    {\n",
    "        \"model\": \"deepseek-coder-6.7b-instruct\",\n",
    "        \"language\": [\"python\", \"javascript\", \"typescript\", \"c&cpp\"]\n",
    "    },\n",
    "    {\n",
    "        \"model\": \"Meta-Llama-3.1-8B-Instruct\",\n",
    "        \"language\": [\"python\", \"javascript\", \"typescript\", \"c&cpp\"]\n",
    "    },\n",
    "    {\n",
    "        \"model\": \"Mistral-7B-Instruct-v0.3\",\n",
    "        \"language\": [\"python\", \"javascript\", \"typescript\", \"c&cpp\"]\n",
    "    },\n",
    "    {\n",
    "        \"model\": \"Phi-3-small-8k-instruct\",\n",
    "        \"language\": [\"python\", \"javascript\", \"typescript\", \"c&cpp\"]\n",
    "    },\n",
    "\n",
    "    {\n",
    "        \"model\": \"starcoder2-7b\",\n",
    "        \"language\": [\"python\", \"javascript\", \"typescript\", \"c&cpp\"]\n",
    "    },\n",
    "    {\n",
    "        \"model\": \"gpt-3.5-turbo\",\n",
    "        \"language\":[\"python\",\"javascript\",\"typescript\",\"c&cpp\"]\n",
    "    }\n",
    "]"
   ],
   "metadata": {
    "collapsed": false
   }
  },
  {
   "cell_type": "code",
   "execution_count": null,
   "outputs": [],
   "source": [
    "result_list = []\n",
    "for task in TASK_LIST:\n",
    "    model_name = task[\"model\"]\n",
    "    language = task[\"language\"]\n",
    "    temp = {\n",
    "        \"model\": model_name\n",
    "    }\n",
    "    for l in language:\n",
    "        file_path = f\"./model_answer_result/{model_name}/{model_name}_{l}.xlsx\"\n",
    "        data = pd.read_excel(file_path)\n",
    "        pass_count = (data[\"result_return_code\"] == 0).sum()\n",
    "        failed_count = (data[\"result_return_code\"] != 0).sum()\n",
    "        pass_rate = (pass_count / len(data)) * 100\n",
    "        temp[f\"{l}_pass_count\"] = pass_count\n",
    "        temp[f\"{l}_failed_count\"] = failed_count\n",
    "        temp[f\"{l}_pass_rate\"] = f\"{pass_rate:.2f}%\"\n",
    "    result_list.append(temp)\n",
    "result_data = pd.DataFrame(result_list)\n",
    "result_data.to_excel(\"./model_answer_result.xlsx\")"
   ],
   "metadata": {
    "collapsed": false
   }
  },
  {
   "cell_type": "code",
   "execution_count": null,
   "outputs": [],
   "source": [],
   "metadata": {
    "collapsed": false
   }
  }
 ],
 "metadata": {
  "kernelspec": {
   "display_name": "Python 3",
   "language": "python",
   "name": "python3"
  },
  "language_info": {
   "codemirror_mode": {
    "name": "ipython",
    "version": 2
   },
   "file_extension": ".py",
   "mimetype": "text/x-python",
   "name": "python",
   "nbconvert_exporter": "python",
   "pygments_lexer": "ipython2",
   "version": "2.7.6"
  }
 },
 "nbformat": 4,
 "nbformat_minor": 0
}

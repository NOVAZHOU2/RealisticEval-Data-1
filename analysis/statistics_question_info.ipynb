{
 "cells": [
  {
   "cell_type": "markdown",
   "source": [
    "# 提取所有题目信息"
   ],
   "metadata": {
    "collapsed": false
   }
  },
  {
   "cell_type": "code",
   "execution_count": null,
   "outputs": [],
   "source": [
    "import json\n",
    "import pandas as pd"
   ],
   "metadata": {
    "collapsed": false
   }
  },
  {
   "cell_type": "code",
   "execution_count": null,
   "metadata": {
    "collapsed": true
   },
   "outputs": [],
   "source": [
    "LANGUAGE_LIST = [\"python\"]\n",
    "SUFFIX_MAP = {\n",
    "    \"python\": \"py\",\n",
    "    \"javascript\": \"js\",\n",
    "    \"typescript\": \"ts\",\n",
    "    \"c&cpp\": \"cpp\",\n",
    "    \"java\": \"java\"\n",
    "}\n",
    "\n",
    "\n",
    "def generate_python_prompt(code_signature, code_type):\n",
    "    if code_type == \"method\":\n",
    "        return f\"please write a python function , the function signature as below {code_signature}\"\n",
    "    elif code_type == \"class\":\n",
    "        return f\"please write a python class , the class signature as below {code_signature}\"\n",
    "\n",
    "\n",
    "def generate_javascript_prompt(code_signature, code_type):\n",
    "    if code_type == \"method\":\n",
    "        return f\"please write a javascript function , the function signature as below {code_signature}\"\n",
    "    elif code_type == \"class\":\n",
    "        return f\"please write a javascript class , the class signature as below {code_signature}\"\n",
    "\n",
    "\n",
    "def generate_typescript_prompt(code_signature, code_type):\n",
    "    if code_type == \"method\":\n",
    "        return f\"please write a typescript function , the function signature as below {code_signature}\"\n",
    "    elif code_type == \"class\":\n",
    "        return f\"please write a typescript class , the class signature as below {code_signature}\"\n",
    "\n",
    "\n",
    "def generate_ccpp_prompt(code_signature, code_type):\n",
    "    if code_type == \"method\":\n",
    "        return f\"please write a cpp function , the function signature as below {code_signature}\"\n",
    "    elif code_type == \"class\":\n",
    "        return f\"please write a cpp class , the class signature as below {code_signature}\"\n",
    "\n",
    "\n",
    "LANGUAGE_PROMPT_MAP = {\n",
    "    \"python\": generate_python_prompt,\n",
    "    \"javascript\": generate_javascript_prompt,\n",
    "    \"typescript\": generate_typescript_prompt,\n",
    "    \"c&cpp\": generate_ccpp_prompt\n",
    "}"
   ]
  },
  {
   "cell_type": "code",
   "execution_count": null,
   "outputs": [],
   "source": [
    "for language in LANGUAGE_LIST:\n",
    "    # 读取excel表 获取数据信息\n",
    "    excel_data = pd.read_excel(\"./xlsx/RealisticEval-Data.xlsx\", sheet_name=language)\n",
    "    data = excel_data[excel_data['check'] == 'yes']\n",
    "    # 遍历每一行\n",
    "    question_array = []\n",
    "    for index, row in data.iterrows():\n",
    "        task_id = int(row[\"task_id\"])\n",
    "        code_type = row[\"code_type\"]\n",
    "        dir_path = f\"../all/t{task_id}\"\n",
    "        signature_path = f\"{dir_path}/{language}/signature.{SUFFIX_MAP[language]}\"\n",
    "        with open(signature_path, \"r\", encoding=\"utf8\") as signature_file:\n",
    "            code_signature = signature_file.read()\n",
    "        test_path = f\"{dir_path}/{language}/test.{SUFFIX_MAP[language]}\"\n",
    "        with open(test_path, \"r\", encoding=\"utf8\") as test_file:\n",
    "            code_test = test_file.read()\n",
    "        prompt = LANGUAGE_PROMPT_MAP[language](code_signature, code_type)\n",
    "        question_info = {\n",
    "            \"task_id\": task_id,\n",
    "            \"code_type\": code_type,\n",
    "            \"code_language\": language,\n",
    "            \"test_code\": code_test,\n",
    "            \"prompt\": prompt\n",
    "        }\n",
    "        question_array.append(question_info)\n",
    "        print(f\"task_id:{task_id} signature:{len(code_signature)} test:{len(code_test)}\")\n",
    "    with open(f\"./question/{language}.json\", \"w\", encoding=\"utf8\") as question_file:\n",
    "        json_str = json.dumps(question_array)\n",
    "        question_file.write(json_str)\n",
    "        question_file.flush()"
   ],
   "metadata": {
    "collapsed": false
   }
  },
  {
   "cell_type": "code",
   "execution_count": null,
   "outputs": [],
   "source": [],
   "metadata": {
    "collapsed": false
   }
  }
 ],
 "metadata": {
  "kernelspec": {
   "display_name": "Python 3",
   "language": "python",
   "name": "python3"
  },
  "language_info": {
   "codemirror_mode": {
    "name": "ipython",
    "version": 2
   },
   "file_extension": ".py",
   "mimetype": "text/x-python",
   "name": "python",
   "nbconvert_exporter": "python",
   "pygments_lexer": "ipython2",
   "version": "2.7.6"
  }
 },
 "nbformat": 4,
 "nbformat_minor": 0
}

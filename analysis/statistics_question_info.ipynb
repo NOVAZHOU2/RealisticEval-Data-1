{
 "cells": [
  {
   "cell_type": "markdown",
   "source": [
    "# 提取所有题目信息"
   ],
   "metadata": {
    "collapsed": false
   }
  },
  {
   "cell_type": "code",
   "execution_count": 4,
   "outputs": [],
   "source": [
    "import json\n",
    "import pandas as pd"
   ],
   "metadata": {
    "collapsed": false
   }
  },
  {
   "cell_type": "code",
   "execution_count": 6,
   "metadata": {
    "collapsed": true
   },
   "outputs": [],
   "source": [
    "LANGUAGE_LIST = [\"c&cpp\"]\n",
    "SUFFIX_MAP = {\n",
    "    \"python\": \"py\",\n",
    "    \"javascript\": \"js\",\n",
    "    \"typescript\": \"ts\",\n",
    "    \"c&cpp\": \"cpp\",\n",
    "    \"java\": \"java\"\n",
    "}\n",
    "\n",
    "\n",
    "def generate_python_prompt(code_signature, code_type):\n",
    "    if code_type == \"method\":\n",
    "        return f\"please write a python function , the function signature as below {code_signature}\"\n",
    "    elif code_type == \"class\":\n",
    "        return f\"please write a python class , the class signature as below {code_signature}\"\n",
    "\n",
    "\n",
    "def generate_javascript_prompt(code_signature, code_type):\n",
    "    if code_type == \"method\":\n",
    "        return f\"please write a javascript function , the function signature as below {code_signature}\"\n",
    "    elif code_type == \"class\":\n",
    "        return f\"please write a javascript class , the class signature as below {code_signature}\"\n",
    "\n",
    "\n",
    "def generate_typescript_prompt(code_signature, code_type):\n",
    "    if code_type == \"method\":\n",
    "        return f\"please write a typescript function , the function signature as below {code_signature}\"\n",
    "    elif code_type == \"class\":\n",
    "        return f\"please write a typescript class , the class signature as below {code_signature}\"\n",
    "\n",
    "\n",
    "def generate_ccpp_prompt(code_signature, code_type):\n",
    "    if code_type == \"method\":\n",
    "        return f\"please write a cpp function , the function signature as below {code_signature}\"\n",
    "    elif code_type == \"class\":\n",
    "        return f\"please write a cpp class , the class signature as below {code_signature}\"\n",
    "\n",
    "\n",
    "LANGUAGE_PROMPT_MAP = {\n",
    "    \"python\": generate_python_prompt,\n",
    "    \"javascript\": generate_javascript_prompt,\n",
    "    \"typescript\": generate_typescript_prompt,\n",
    "    \"c&cpp\": generate_ccpp_prompt\n",
    "}"
   ]
  },
  {
   "cell_type": "code",
   "execution_count": 7,
   "outputs": [
    {
     "name": "stdout",
     "output_type": "stream",
     "text": [
      "task_id:183 signature:1046 test:1843\n",
      "task_id:184 signature:1089 test:1467\n",
      "task_id:187 signature:432 test:1302\n",
      "task_id:188 signature:124 test:1100\n",
      "task_id:189 signature:429 test:1129\n",
      "task_id:190 signature:201 test:1173\n",
      "task_id:191 signature:360 test:923\n",
      "task_id:192 signature:219 test:1153\n",
      "task_id:193 signature:333 test:452\n",
      "task_id:194 signature:316 test:1015\n",
      "task_id:195 signature:383 test:1191\n",
      "task_id:196 signature:390 test:776\n",
      "task_id:197 signature:640 test:553\n",
      "task_id:198 signature:283 test:1058\n",
      "task_id:200 signature:361 test:1433\n",
      "task_id:202 signature:648 test:872\n",
      "task_id:203 signature:329 test:1192\n",
      "task_id:204 signature:395 test:1140\n",
      "task_id:205 signature:212 test:1498\n",
      "task_id:206 signature:639 test:845\n",
      "task_id:207 signature:411 test:1337\n",
      "task_id:208 signature:718 test:2695\n",
      "task_id:209 signature:740 test:2299\n",
      "task_id:210 signature:143 test:777\n",
      "task_id:354 signature:609 test:1952\n",
      "task_id:355 signature:617 test:1857\n",
      "task_id:356 signature:167 test:879\n",
      "task_id:357 signature:214 test:1427\n",
      "task_id:358 signature:380 test:818\n",
      "task_id:359 signature:641 test:1039\n",
      "task_id:360 signature:401 test:836\n",
      "task_id:361 signature:749 test:1031\n",
      "task_id:365 signature:575 test:445\n",
      "task_id:481 signature:1065 test:3268\n",
      "task_id:589 signature:783 test:1369\n",
      "task_id:590 signature:1274 test:1275\n",
      "task_id:591 signature:993 test:2755\n",
      "task_id:592 signature:882 test:742\n",
      "task_id:594 signature:764 test:1350\n",
      "task_id:595 signature:553 test:946\n",
      "task_id:597 signature:551 test:985\n",
      "task_id:598 signature:980 test:1334\n",
      "task_id:599 signature:712 test:1573\n",
      "task_id:601 signature:466 test:652\n",
      "task_id:603 signature:204 test:1219\n",
      "task_id:604 signature:439 test:884\n",
      "task_id:605 signature:611 test:1055\n",
      "task_id:606 signature:1044 test:1958\n"
     ]
    }
   ],
   "source": [
    "for language in LANGUAGE_LIST:\n",
    "    # 读取excel表 获取数据信息\n",
    "    excel_data = pd.read_excel(\"./xlsx/RealisticEval-Data.xlsx\", sheet_name=language)\n",
    "    data = excel_data[excel_data['check'] == 'yes']\n",
    "    # 遍历每一行\n",
    "    question_array = []\n",
    "    for index, row in data.iterrows():\n",
    "        task_id = int(row[\"task_id\"])\n",
    "        code_type = row[\"code_type\"]\n",
    "        dir_path = f\"../all/t{task_id}\"\n",
    "        signature_path = f\"{dir_path}/{language}/signature.{SUFFIX_MAP[language]}\"\n",
    "        addition_info = str(row[\"addition_info\"])\n",
    "        if addition_info == 'nan':\n",
    "            addition_info = \"\"\n",
    "        with open(signature_path, \"r\", encoding=\"utf8\") as signature_file:\n",
    "            code_signature = signature_file.read()\n",
    "        test_path = f\"{dir_path}/{language}/test.{SUFFIX_MAP[language]}\"\n",
    "        with open(test_path, \"r\", encoding=\"utf8\") as test_file:\n",
    "            code_test = test_file.read()\n",
    "        prompt = LANGUAGE_PROMPT_MAP[language](code_signature, code_type)\n",
    "        question_info = {\n",
    "            \"task_id\": task_id,\n",
    "            \"code_type\": code_type,\n",
    "            \"code_signature\": code_signature,\n",
    "            \"code_language\": language,\n",
    "            \"test_code\": code_test,\n",
    "            \"prompt\": prompt,\n",
    "            \"addition_info\": addition_info\n",
    "\n",
    "        }\n",
    "        question_array.append(question_info)\n",
    "        print(f\"task_id:{task_id} signature:{len(code_signature)} test:{len(code_test)}\")\n",
    "    with open(f\"./question/{language}.json\", \"w\", encoding=\"utf8\") as question_file:\n",
    "        json_str = json.dumps(question_array)\n",
    "        question_file.write(json_str)\n",
    "        question_file.flush()\n",
    "    with open(rf\"E:\\code\\code_back\\python_project\\llm\\qa\\question\\{language}.json\",\"w\",encoding=\"utf8\") as question_file:\n",
    "        json_str = json.dumps(question_array)\n",
    "        question_file.write(json_str)\n",
    "        question_file.flush()"
   ],
   "metadata": {
    "collapsed": false
   }
  },
  {
   "cell_type": "code",
   "execution_count": null,
   "outputs": [],
   "source": [],
   "metadata": {
    "collapsed": false
   }
  }
 ],
 "metadata": {
  "kernelspec": {
   "display_name": "Python 3",
   "language": "python",
   "name": "python3"
  },
  "language_info": {
   "codemirror_mode": {
    "name": "ipython",
    "version": 2
   },
   "file_extension": ".py",
   "mimetype": "text/x-python",
   "name": "python",
   "nbconvert_exporter": "python",
   "pygments_lexer": "ipython2",
   "version": "2.7.6"
  }
 },
 "nbformat": 4,
 "nbformat_minor": 0
}

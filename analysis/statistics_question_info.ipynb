{
 "cells": [
  {
   "cell_type": "code",
   "execution_count": 2,
   "outputs": [],
   "source": [
    "import pandas as pd"
   ],
   "metadata": {
    "collapsed": false
   }
  },
  {
   "cell_type": "code",
   "execution_count": 3,
   "metadata": {
    "collapsed": true
   },
   "outputs": [
    {
     "data": {
      "text/plain": "     task_id language original_id                project  \\\n0        1.0   python         485      sd12key.github.io   \n1        2.0   python         150  winget-script-creator   \n2        3.0   python         167           OCR-ensemble   \n3        4.0   python         825       nlnt-level-1and2   \n4        5.0   python         357              lglsi2-24   \n..       ...      ...         ...                    ...   \n356    441.0      NaN         NaN                FODLego   \n357    442.0      NaN         NaN         fiware-orion\\n   \n358    443.0      NaN         NaN            GQLSpection   \n359      NaN      NaN         NaN            GQLSpection   \n360    445.0      NaN         NaN             arena-py\\n   \n\n                                             file_path  \\\n0    sd12key.github.io\\8af95a6737f9fa2f7bebe49425e4...   \n1    winget-script-creator\\688a9c99a0f97bfbed1a620b...   \n2    OCR-ensemble\\95a327b1b3614806e66bff24d867aba44...   \n3    nlnt-level-1and2\\daa10c480d86ea0bce0bfdbe6b9df...   \n4    lglsi2-24\\ffe7f23207afeacb1c4e6dab20a013ef91f9...   \n..                                                 ...   \n356  FODLego\\d016a8dcc244d61d40a9059393df8916714703...   \n357  fiware-orion\\cca7d63318dee393d4e8874ada0f7790b...   \n358  GQLSpection\\19536007e2c2721b74b780daf4d15f6e31...   \n359  GQLSpection\\19536007e2c2721b74b780daf4d15f6e31...   \n360  arena-py\\0bd135904574bb26425a253ed4e67a7c92fa2...   \n\n                          question_type  \\\n0    Data processing and transformation   \n1     File operations and I/O operation   \n2    Machine learning and deep learning   \n3          Algorithm and data structure   \n4          Algorithm and data structure   \n..                                  ...   \n356                                 NaN   \n357                                 NaN   \n358                                 NaN   \n359                                 NaN   \n360                                 NaN   \n\n                                   task_summary_zh_GPT  \\\n0    智能地转换输入值的类型。尝试将输入值转换为一个整数，如果失败，则转换为一个浮点数，如果两者都...   \n1    允许用户通过输入程序名称来生成一个包含这些程序的PowerShell安装脚本，同时将用户输入...   \n2                            将给定图像的一部分，根据提供的四个角点进行旋转裁剪   \n3                                将四元数转换为绕Z轴旋转的偏航角（yaw）   \n4                                                 矩阵乘法   \n..                                                 ...   \n356                                                NaN   \n357                                                NaN   \n358                                                NaN   \n359                                                NaN   \n360                                                NaN   \n\n                                       task_summary_zh  \\\n0    对输入的字符串进行转换，首先看它是否是整数，如果是则转换为整数，不是则看它是否是浮点数，如果...   \n1       通过用户输入获得要安装程序的名称，生成一个PowerShell脚本，可以直接运行下载这些程序   \n2                       从给定的图像中，根据给定的四个点，裁剪去四个点连接而成的图片   \n3                                     将四元数转换为绕Z轴选择的偏航角   \n4                                               实现矩阵乘法   \n..                                                 ...   \n356                                                NaN   \n357                                                NaN   \n358                                                NaN   \n359                                                NaN   \n360                                                NaN   \n\n                                       task_summary_en  testcase_number  \\\n0    convert the input string, first see if it is a...              5.0   \n1    The name of the program to be installed is obt...              5.0   \n2    From the given image, according to the given f...              NaN   \n3    The quaternion is converted to a selected yaw ...              5.0   \n4                 Implementing matrix multiplication\\n              4.0   \n..                                                 ...              ...   \n356                                                NaN              NaN   \n357                                                NaN              NaN   \n358                                                NaN              NaN   \n359                                                NaN              NaN   \n360                                                NaN              NaN   \n\n    original_code_single_run original_code_pass_test adapted_code_pass_test  \\\n0                        yes                     yes                    yes   \n1                         no                     yes                    yes   \n2                        NaN                      no                     no   \n3                        yes                     yes                    yes   \n4                        yes                     yes                    yes   \n..                       ...                     ...                    ...   \n356                      NaN                     NaN                    NaN   \n357                      NaN                     NaN                    NaN   \n358                      NaN                     NaN                    NaN   \n359                      NaN                     NaN                    NaN   \n360                      NaN                     NaN                    NaN   \n\n    author code_type   status check  \n0      陈浩轩    method   finish   yes  \n1      陈浩轩    method   finish   yes  \n2      陈浩轩       NaN  pending   NaN  \n3      陈浩轩    method   finish   yes  \n4      陈浩轩    method   finish   yes  \n..     ...       ...      ...   ...  \n356    NaN       NaN      NaN   NaN  \n357    NaN       NaN      NaN   NaN  \n358    NaN       NaN      NaN   NaN  \n359    NaN       NaN      NaN   NaN  \n360    NaN       NaN      NaN   NaN  \n\n[361 rows x 17 columns]",
      "text/html": "<div>\n<style scoped>\n    .dataframe tbody tr th:only-of-type {\n        vertical-align: middle;\n    }\n\n    .dataframe tbody tr th {\n        vertical-align: top;\n    }\n\n    .dataframe thead th {\n        text-align: right;\n    }\n</style>\n<table border=\"1\" class=\"dataframe\">\n  <thead>\n    <tr style=\"text-align: right;\">\n      <th></th>\n      <th>task_id</th>\n      <th>language</th>\n      <th>original_id</th>\n      <th>project</th>\n      <th>file_path</th>\n      <th>question_type</th>\n      <th>task_summary_zh_GPT</th>\n      <th>task_summary_zh</th>\n      <th>task_summary_en</th>\n      <th>testcase_number</th>\n      <th>original_code_single_run</th>\n      <th>original_code_pass_test</th>\n      <th>adapted_code_pass_test</th>\n      <th>author</th>\n      <th>code_type</th>\n      <th>status</th>\n      <th>check</th>\n    </tr>\n  </thead>\n  <tbody>\n    <tr>\n      <th>0</th>\n      <td>1.0</td>\n      <td>python</td>\n      <td>485</td>\n      <td>sd12key.github.io</td>\n      <td>sd12key.github.io\\8af95a6737f9fa2f7bebe49425e4...</td>\n      <td>Data processing and transformation</td>\n      <td>智能地转换输入值的类型。尝试将输入值转换为一个整数，如果失败，则转换为一个浮点数，如果两者都...</td>\n      <td>对输入的字符串进行转换，首先看它是否是整数，如果是则转换为整数，不是则看它是否是浮点数，如果...</td>\n      <td>convert the input string, first see if it is a...</td>\n      <td>5.0</td>\n      <td>yes</td>\n      <td>yes</td>\n      <td>yes</td>\n      <td>陈浩轩</td>\n      <td>method</td>\n      <td>finish</td>\n      <td>yes</td>\n    </tr>\n    <tr>\n      <th>1</th>\n      <td>2.0</td>\n      <td>python</td>\n      <td>150</td>\n      <td>winget-script-creator</td>\n      <td>winget-script-creator\\688a9c99a0f97bfbed1a620b...</td>\n      <td>File operations and I/O operation</td>\n      <td>允许用户通过输入程序名称来生成一个包含这些程序的PowerShell安装脚本，同时将用户输入...</td>\n      <td>通过用户输入获得要安装程序的名称，生成一个PowerShell脚本，可以直接运行下载这些程序</td>\n      <td>The name of the program to be installed is obt...</td>\n      <td>5.0</td>\n      <td>no</td>\n      <td>yes</td>\n      <td>yes</td>\n      <td>陈浩轩</td>\n      <td>method</td>\n      <td>finish</td>\n      <td>yes</td>\n    </tr>\n    <tr>\n      <th>2</th>\n      <td>3.0</td>\n      <td>python</td>\n      <td>167</td>\n      <td>OCR-ensemble</td>\n      <td>OCR-ensemble\\95a327b1b3614806e66bff24d867aba44...</td>\n      <td>Machine learning and deep learning</td>\n      <td>将给定图像的一部分，根据提供的四个角点进行旋转裁剪</td>\n      <td>从给定的图像中，根据给定的四个点，裁剪去四个点连接而成的图片</td>\n      <td>From the given image, according to the given f...</td>\n      <td>NaN</td>\n      <td>NaN</td>\n      <td>no</td>\n      <td>no</td>\n      <td>陈浩轩</td>\n      <td>NaN</td>\n      <td>pending</td>\n      <td>NaN</td>\n    </tr>\n    <tr>\n      <th>3</th>\n      <td>4.0</td>\n      <td>python</td>\n      <td>825</td>\n      <td>nlnt-level-1and2</td>\n      <td>nlnt-level-1and2\\daa10c480d86ea0bce0bfdbe6b9df...</td>\n      <td>Algorithm and data structure</td>\n      <td>将四元数转换为绕Z轴旋转的偏航角（yaw）</td>\n      <td>将四元数转换为绕Z轴选择的偏航角</td>\n      <td>The quaternion is converted to a selected yaw ...</td>\n      <td>5.0</td>\n      <td>yes</td>\n      <td>yes</td>\n      <td>yes</td>\n      <td>陈浩轩</td>\n      <td>method</td>\n      <td>finish</td>\n      <td>yes</td>\n    </tr>\n    <tr>\n      <th>4</th>\n      <td>5.0</td>\n      <td>python</td>\n      <td>357</td>\n      <td>lglsi2-24</td>\n      <td>lglsi2-24\\ffe7f23207afeacb1c4e6dab20a013ef91f9...</td>\n      <td>Algorithm and data structure</td>\n      <td>矩阵乘法</td>\n      <td>实现矩阵乘法</td>\n      <td>Implementing matrix multiplication\\n</td>\n      <td>4.0</td>\n      <td>yes</td>\n      <td>yes</td>\n      <td>yes</td>\n      <td>陈浩轩</td>\n      <td>method</td>\n      <td>finish</td>\n      <td>yes</td>\n    </tr>\n    <tr>\n      <th>...</th>\n      <td>...</td>\n      <td>...</td>\n      <td>...</td>\n      <td>...</td>\n      <td>...</td>\n      <td>...</td>\n      <td>...</td>\n      <td>...</td>\n      <td>...</td>\n      <td>...</td>\n      <td>...</td>\n      <td>...</td>\n      <td>...</td>\n      <td>...</td>\n      <td>...</td>\n      <td>...</td>\n      <td>...</td>\n    </tr>\n    <tr>\n      <th>356</th>\n      <td>441.0</td>\n      <td>NaN</td>\n      <td>NaN</td>\n      <td>FODLego</td>\n      <td>FODLego\\d016a8dcc244d61d40a9059393df8916714703...</td>\n      <td>NaN</td>\n      <td>NaN</td>\n      <td>NaN</td>\n      <td>NaN</td>\n      <td>NaN</td>\n      <td>NaN</td>\n      <td>NaN</td>\n      <td>NaN</td>\n      <td>NaN</td>\n      <td>NaN</td>\n      <td>NaN</td>\n      <td>NaN</td>\n    </tr>\n    <tr>\n      <th>357</th>\n      <td>442.0</td>\n      <td>NaN</td>\n      <td>NaN</td>\n      <td>fiware-orion\\n</td>\n      <td>fiware-orion\\cca7d63318dee393d4e8874ada0f7790b...</td>\n      <td>NaN</td>\n      <td>NaN</td>\n      <td>NaN</td>\n      <td>NaN</td>\n      <td>NaN</td>\n      <td>NaN</td>\n      <td>NaN</td>\n      <td>NaN</td>\n      <td>NaN</td>\n      <td>NaN</td>\n      <td>NaN</td>\n      <td>NaN</td>\n    </tr>\n    <tr>\n      <th>358</th>\n      <td>443.0</td>\n      <td>NaN</td>\n      <td>NaN</td>\n      <td>GQLSpection</td>\n      <td>GQLSpection\\19536007e2c2721b74b780daf4d15f6e31...</td>\n      <td>NaN</td>\n      <td>NaN</td>\n      <td>NaN</td>\n      <td>NaN</td>\n      <td>NaN</td>\n      <td>NaN</td>\n      <td>NaN</td>\n      <td>NaN</td>\n      <td>NaN</td>\n      <td>NaN</td>\n      <td>NaN</td>\n      <td>NaN</td>\n    </tr>\n    <tr>\n      <th>359</th>\n      <td>NaN</td>\n      <td>NaN</td>\n      <td>NaN</td>\n      <td>GQLSpection</td>\n      <td>GQLSpection\\19536007e2c2721b74b780daf4d15f6e31...</td>\n      <td>NaN</td>\n      <td>NaN</td>\n      <td>NaN</td>\n      <td>NaN</td>\n      <td>NaN</td>\n      <td>NaN</td>\n      <td>NaN</td>\n      <td>NaN</td>\n      <td>NaN</td>\n      <td>NaN</td>\n      <td>NaN</td>\n      <td>NaN</td>\n    </tr>\n    <tr>\n      <th>360</th>\n      <td>445.0</td>\n      <td>NaN</td>\n      <td>NaN</td>\n      <td>arena-py\\n</td>\n      <td>arena-py\\0bd135904574bb26425a253ed4e67a7c92fa2...</td>\n      <td>NaN</td>\n      <td>NaN</td>\n      <td>NaN</td>\n      <td>NaN</td>\n      <td>NaN</td>\n      <td>NaN</td>\n      <td>NaN</td>\n      <td>NaN</td>\n      <td>NaN</td>\n      <td>NaN</td>\n      <td>NaN</td>\n      <td>NaN</td>\n    </tr>\n  </tbody>\n</table>\n<p>361 rows × 17 columns</p>\n</div>"
     },
     "execution_count": 3,
     "metadata": {},
     "output_type": "execute_result"
    }
   ],
   "source": [
    "# 读取excel表 获取数据信息\n",
    "excel_data = pd.read_excel(\"./RealisticEval-Data.xlsx\")\n",
    "excel_data"
   ]
  },
  {
   "cell_type": "code",
   "execution_count": null,
   "outputs": [],
   "source": [],
   "metadata": {
    "collapsed": false
   }
  }
 ],
 "metadata": {
  "kernelspec": {
   "display_name": "Python 3",
   "language": "python",
   "name": "python3"
  },
  "language_info": {
   "codemirror_mode": {
    "name": "ipython",
    "version": 2
   },
   "file_extension": ".py",
   "mimetype": "text/x-python",
   "name": "python",
   "nbconvert_exporter": "python",
   "pygments_lexer": "ipython2",
   "version": "2.7.6"
  }
 },
 "nbformat": 4,
 "nbformat_minor": 0
}

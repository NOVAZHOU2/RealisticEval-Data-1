{
 "cells": [
  {
   "cell_type": "markdown",
   "source": [
    "# 提取所有题目信息"
   ],
   "metadata": {
    "collapsed": false
   }
  },
  {
   "cell_type": "code",
   "execution_count": 7,
   "outputs": [],
   "source": [
    "import json\n",
    "import pandas as pd"
   ],
   "metadata": {
    "collapsed": false
   }
  },
  {
   "cell_type": "code",
   "execution_count": 8,
   "metadata": {
    "collapsed": true
   },
   "outputs": [],
   "source": [
    "LANGUAGE_LIST = [\"java\"]\n",
    "SUFFIX_MAP = {\n",
    "    \"python\": \"py\",\n",
    "    \"javascript\": \"js\",\n",
    "    \"typescript\": \"ts\",\n",
    "    \"c&cpp\": \"cpp\",\n",
    "    \"java\": \"java\"\n",
    "}\n",
    "\n",
    "\n",
    "def generate_python_prompt(code_signature, code_type):\n",
    "    if code_type == \"method\":\n",
    "        return f\"please write a python function , the function signature as below {code_signature}\"\n",
    "    elif code_type == \"class\":\n",
    "        return f\"please write a python class , the class signature as below {code_signature}\"\n",
    "\n",
    "\n",
    "def generate_javascript_prompt(code_signature, code_type):\n",
    "    if code_type == \"method\":\n",
    "        return f\"please write a javascript function , the function signature as below {code_signature}\"\n",
    "    elif code_type == \"class\":\n",
    "        return f\"please write a javascript class , the class signature as below {code_signature}\"\n",
    "\n",
    "\n",
    "def generate_typescript_prompt(code_signature, code_type):\n",
    "    if code_type == \"method\":\n",
    "        return f\"please write a typescript function , the function signature as below {code_signature}\"\n",
    "    elif code_type == \"class\":\n",
    "        return f\"please write a typescript class , the class signature as below {code_signature}\"\n",
    "\n",
    "\n",
    "def generate_ccpp_prompt(code_signature, code_type):\n",
    "    if code_type == \"method\":\n",
    "        return f\"please write a cpp function , the function signature as below {code_signature}\"\n",
    "    elif code_type == \"class\":\n",
    "        return f\"please write a cpp class , the class signature as below {code_signature}\"\n",
    "\n",
    "\n",
    "def generate_java_prompt(code_signature, code_type):\n",
    "    if code_type == \"method\":\n",
    "        return f\"please write a java function , the function signature as below {code_signature},package is org.real.temp, class is Answer\"\n",
    "    elif code_type == \"class\":\n",
    "        return f\"please write a java class , the function signature as below {code_signature},package is org.real.temp, class is Answer\"\n",
    "\n",
    "\n",
    "LANGUAGE_PROMPT_MAP = {\n",
    "    \"python\": generate_python_prompt,\n",
    "    \"javascript\": generate_javascript_prompt,\n",
    "    \"typescript\": generate_typescript_prompt,\n",
    "    \"c&cpp\": generate_ccpp_prompt,\n",
    "    \"java\":generate_java_prompt\n",
    "}"
   ]
  },
  {
   "cell_type": "code",
   "execution_count": 9,
   "outputs": [
    {
     "name": "stdout",
     "output_type": "stream",
     "text": [
      "task_id:170 signature:1316 test:1378\n",
      "task_id:173 signature:824 test:1944\n",
      "task_id:174 signature:1134 test:1341\n",
      "task_id:175 signature:416 test:3963\n",
      "task_id:176 signature:855 test:3293\n",
      "task_id:177 signature:480 test:2544\n",
      "task_id:178 signature:268 test:1365\n",
      "task_id:179 signature:447 test:4488\n",
      "task_id:180 signature:374 test:1934\n",
      "task_id:181 signature:369 test:3074\n",
      "task_id:182 signature:528 test:4152\n",
      "task_id:348 signature:529 test:1121\n",
      "task_id:349 signature:781 test:2287\n",
      "task_id:350 signature:391 test:1312\n",
      "task_id:351 signature:682 test:1008\n",
      "task_id:352 signature:603 test:1164\n",
      "task_id:608 signature:236 test:1072\n",
      "task_id:609 signature:345 test:1665\n",
      "task_id:610 signature:205 test:1914\n",
      "task_id:611 signature:200 test:1813\n",
      "task_id:612 signature:414 test:2658\n",
      "task_id:614 signature:284 test:1901\n",
      "task_id:615 signature:488 test:1670\n",
      "task_id:616 signature:299 test:1561\n",
      "task_id:617 signature:986 test:1802\n",
      "task_id:619 signature:333 test:2298\n",
      "task_id:620 signature:298 test:2002\n",
      "task_id:622 signature:397 test:3777\n",
      "task_id:623 signature:236 test:1709\n",
      "task_id:625 signature:740 test:2825\n",
      "task_id:626 signature:444 test:3556\n",
      "task_id:628 signature:384 test:2317\n",
      "task_id:629 signature:558 test:1487\n",
      "task_id:630 signature:447 test:2007\n",
      "task_id:631 signature:306 test:3225\n",
      "task_id:632 signature:694 test:1707\n",
      "task_id:633 signature:340 test:3561\n"
     ]
    }
   ],
   "source": [
    "for language in LANGUAGE_LIST:\n",
    "    # 读取excel表 获取数据信息\n",
    "    excel_data = pd.read_excel(\"./xlsx/RealisticEval-Data.xlsx\", sheet_name=language)\n",
    "    data = excel_data[excel_data['check'] == 'yes']\n",
    "    # 遍历每一行\n",
    "    question_array = []\n",
    "\n",
    "    for index, row in data.iterrows():\n",
    "        task_id = int(row[\"task_id\"])\n",
    "        code_type = row[\"code_type\"]\n",
    "        dir_path = f\"../all/t{task_id}\"\n",
    "        if language == \"java\":\n",
    "            signature_path = f\"{dir_path}/{language}/Signature.{SUFFIX_MAP[language]}\"\n",
    "        else:\n",
    "            signature_path = f\"{dir_path}/{language}/signature.{SUFFIX_MAP[language]}\"\n",
    "        addition_info = str(row[\"addition_info\"])\n",
    "        if addition_info == 'nan':\n",
    "            addition_info = \"\"\n",
    "        with open(signature_path, \"r\", encoding=\"utf8\") as signature_file:\n",
    "            code_signature = signature_file.read()\n",
    "        if language == \"java\":\n",
    "            test_path = f\"{dir_path}/{language}/Tester.{SUFFIX_MAP[language]}\"\n",
    "        else:\n",
    "            test_path = f\"{dir_path}/{language}/test.{SUFFIX_MAP[language]}\"\n",
    "        with open(test_path, \"r\", encoding=\"utf8\") as test_file:\n",
    "            code_test = test_file.read()\n",
    "        prompt = LANGUAGE_PROMPT_MAP[language](code_signature, code_type)\n",
    "        question_info = {\n",
    "            \"task_id\": task_id,\n",
    "            \"code_type\": code_type,\n",
    "            \"code_signature\": code_signature,\n",
    "            \"code_language\": language,\n",
    "            \"test_code\": code_test,\n",
    "            \"prompt\": prompt,\n",
    "            \"addition_info\": addition_info\n",
    "\n",
    "        }\n",
    "        question_array.append(question_info)\n",
    "        print(f\"task_id:{task_id} signature:{len(code_signature)} test:{len(code_test)}\")\n",
    "    with open(f\"./question/{language}.json\", \"w\", encoding=\"utf8\") as question_file:\n",
    "        json_str = json.dumps(question_array)\n",
    "        question_file.write(json_str)\n",
    "        question_file.flush()\n",
    "    with open(rf\"E:\\code\\code_back\\python_project\\llm\\qa\\question\\{language}.json\", \"w\",\n",
    "              encoding=\"utf8\") as question_file:\n",
    "        json_str = json.dumps(question_array)\n",
    "        question_file.write(json_str)\n",
    "        question_file.flush()"
   ],
   "metadata": {
    "collapsed": false
   }
  },
  {
   "cell_type": "code",
   "execution_count": null,
   "outputs": [],
   "source": [],
   "metadata": {
    "collapsed": false
   }
  }
 ],
 "metadata": {
  "kernelspec": {
   "display_name": "Python 3",
   "language": "python",
   "name": "python3"
  },
  "language_info": {
   "codemirror_mode": {
    "name": "ipython",
    "version": 2
   },
   "file_extension": ".py",
   "mimetype": "text/x-python",
   "name": "python",
   "nbconvert_exporter": "python",
   "pygments_lexer": "ipython2",
   "version": "2.7.6"
  }
 },
 "nbformat": 4,
 "nbformat_minor": 0
}
